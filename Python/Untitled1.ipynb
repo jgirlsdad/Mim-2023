{
 "cells": [
  {
   "cell_type": "markdown",
   "id": "f0330db1-74b0-40dc-8e3a-3e315d542be8",
   "metadata": {},
   "source": [
    "<h1>Dictionaries</h1>"
   ]
  },
  {
   "cell_type": "markdown",
   "id": "bfda3a95-8685-4993-86ab-f132f8b85897",
   "metadata": {},
   "source": [
    "<p>&lt;p&gt;A &lt;strong&gt;dictionary&lt;/strong&gt; is a collection which is ordered*, changeable and do &lt;strong&gt;not allow duplicates&lt;/strong&gt;. &lt;br /&gt;Note: In earlier vesions of Python (&amp;lt; V3.7), dictionaries are NOT ordere&lt;/p&gt;</p>\n",
    "<p>&lt;p&gt;&lt;strong&gt;Dictionaries&lt;/strong&gt; differ from &lt;strong&gt;lists&lt;/strong&gt; primarily in how elements are accessed:&lt;/p&gt;</p>\n",
    "<p>List elements are accessed by their position in the list, via indexing. Dictionary elements are accessed via keys</p>"
   ]
  },
  {
   "cell_type": "code",
   "execution_count": null,
   "id": "0466dbc8-60fd-4e8b-9ef8-1be2b383134f",
   "metadata": {},
   "outputs": [],
   "source": [
    "<div style=\"border: 1px solid blue; padding: 10px\">"
   ]
  }
 ],
 "metadata": {
  "kernelspec": {
   "display_name": "Python 3 (ipykernel)",
   "language": "python",
   "name": "python3"
  },
  "language_info": {
   "codemirror_mode": {
    "name": "ipython",
    "version": 3
   },
   "file_extension": ".py",
   "mimetype": "text/x-python",
   "name": "python",
   "nbconvert_exporter": "python",
   "pygments_lexer": "ipython3",
   "version": "3.9.13"
  }
 },
 "nbformat": 4,
 "nbformat_minor": 5
}
