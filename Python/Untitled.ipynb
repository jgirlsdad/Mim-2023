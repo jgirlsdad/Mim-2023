{
 "cells": [
  {
   "cell_type": "markdown",
   "id": "20043283-11e9-4673-92f5-f24c6717621f",
   "metadata": {},
   "source": [
    "<ul>\n",
    "<li style=\"border: 1px solid blue; font-family: serif; color: green; font-size: 18px;\">&nbsp;</li>\n",
    "</ul>"
   ]
  }
 ],
 "metadata": {
  "kernelspec": {
   "display_name": "Python 3 (ipykernel)",
   "language": "python",
   "name": "python3"
  },
  "language_info": {
   "codemirror_mode": {
    "name": "ipython",
    "version": 3
   },
   "file_extension": ".py",
   "mimetype": "text/x-python",
   "name": "python",
   "nbconvert_exporter": "python",
   "pygments_lexer": "ipython3",
   "version": "3.9.13"
  }
 },
 "nbformat": 4,
 "nbformat_minor": 5
}
