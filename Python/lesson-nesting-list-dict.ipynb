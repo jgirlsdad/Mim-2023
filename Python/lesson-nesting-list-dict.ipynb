{
 "cells": [
  {
   "cell_type": "markdown",
   "id": "8054e465-d8f5-4313-80bc-b68ca54d0c1b",
   "metadata": {
    "tags": []
   },
   "source": [
    "<h1>Nesting Lists and Dictionaries</h1>"
   ]
  },
  {
   "cell_type": "markdown",
   "id": "42248bdb-55ff-4dc1-bd7e-f6f40bb2aa73",
   "metadata": {
    "tags": []
   },
   "source": [
    "<p><span style=\"font-size: 14pt; color: #169179;\">One way to create <strong>powerful data structure</strong>s in Python is by <strong>nesting Lists and Dictionaries.</strong></span></p>\n",
    "<p><span style=\"font-size: 14pt; color: #169179;\">Nesting here means to put one inside of the other, like nesting dolls.&nbsp;&nbsp;</span></p>\n",
    "<p><span style=\"font-size: 14pt; color: #169179;\">Some examples of nested data structure:</span></p>\n",
    "<ol>\n",
    "<li><span style=\"font-size: 14pt; color: #169179;\">List of lists</span></li>\n",
    "<li><span style=\"font-size: 14pt; color: #169179;\">Dictionary of dictionaries</span></li>\n",
    "<li><span style=\"font-size: 14pt; color: #169179;\">Dictionary of lists</span></li>\n",
    "<li><span style=\"font-size: 14pt; color: #169179;\">List of dictionaries</span></li>\n",
    "<li><span style=\"font-size: 14pt; color: #169179;\">Hybrids&nbsp;</span></li>\n",
    "</ol>"
   ]
  },
  {
   "cell_type": "code",
   "execution_count": 6,
   "id": "1f117eaf-e57d-4a8d-b82d-08817899e23e",
   "metadata": {},
   "outputs": [],
   "source": [
    "# import libraries \n",
    "import json\n"
   ]
  },
  {
   "cell_type": "markdown",
   "id": "9a7f9f8d-df4c-4220-8582-4902cb01b6cb",
   "metadata": {
    "tags": []
   },
   "source": [
    "<h2>1. List of Lists</h2>"
   ]
  },
  {
   "cell_type": "markdown",
   "id": "9914f6d3-66c3-471c-aa38-fa123ba9ec4f",
   "metadata": {},
   "source": [
    "<div style=\"border: 1px solid blue; padding: 10px;\">\n",
    "<p><span style=\"font-size: 14pt; color: #169179;\">Lets start with a list nested with another list, sometimes called <strong>list of lists</strong></span></p>\n",
    "<p><span style=\"font-size: 14pt; color: #169179;\">One reason lists of lists can be important is some <strong>machine learning</strong> libraries either expect data to be in this form, or sometimes they return data in this form</span></p>\n",
    "</div>"
   ]
  },
  {
   "cell_type": "code",
   "execution_count": 1,
   "id": "01f522d8-919e-47e5-92c2-9af8c980bcca",
   "metadata": {},
   "outputs": [
    {
     "name": "stdout",
     "output_type": "stream",
     "text": [
      "[[4, 12], [6, 18], [8, 24], [10, 30]]\n"
     ]
    }
   ],
   "source": [
    "# first, create an empty list to be our main list\n",
    "arr  = []\n",
    "\n",
    "# add some lists to our empty list\n",
    "for n in [4,6,8,10]:\n",
    "    b = []  # create a temporary empty list\n",
    "    b.append(n)  # append some values to our temporary list\n",
    "    b.append(n*3) # append another value to our temporary list\n",
    "    arr.append(b)  #   append our temporary list to our main list\n",
    "    \n",
    "# take a look at our main list\n",
    "print(arr)"
   ]
  },
  {
   "cell_type": "markdown",
   "id": "3e63ccfd-e296-4ae2-83a3-99e48857ab10",
   "metadata": {},
   "source": [
    "<p><span style=\"font-size: 14pt; color: #169179;\">So <em>arr</em> is a <strong>list</strong>, with each item in <em>arr</em> being <strong>another</strong> <strong>list</strong>, each of which has 2 items (it can contain as many items as needed, we just chose 2 for this example)</span></p>\n",
    "<p><span style=\"font-size: 14pt; color: #169179;\">Specifically, the members of <em>arr</em> are:&nbsp;</span></p>\n",
    "<p><span style=\"font-size: 14pt; color: #169179;\">arr[0] = [4,12]</span></p>\n",
    "<p><span style=\"font-size: 14pt; color: #169179;\">arr[1] = [6,18]</span></p>\n",
    "<p><span style=\"font-size: 14pt; color: #169179;\">arr[2] = [8,24]</span></p>\n",
    "<p><span style=\"font-size: 14pt; color: #169179;\">arr[3] = a[10,30]</span></p>\n",
    "<p>&nbsp;</p>\n",
    "<p><span style=\"font-size: 14pt; color: #169179;\">Pretty cool... We can <strong>iterate</strong> over the item in arr as seen below</span></p>"
   ]
  },
  {
   "cell_type": "code",
   "execution_count": 2,
   "id": "9ef23ad9-461b-40bb-8b60-f61f85a15eff",
   "metadata": {},
   "outputs": [
    {
     "name": "stdout",
     "output_type": "stream",
     "text": [
      "[4, 12]\n",
      "[6, 18]\n",
      "[8, 24]\n",
      "[10, 30]\n"
     ]
    }
   ],
   "source": [
    "# Lets iterate over the members in the list arr from above\n",
    "for m in arr:\n",
    "    print(m)"
   ]
  },
  {
   "cell_type": "markdown",
   "id": "b69ff429-bcd4-489e-b11c-6be01db78845",
   "metadata": {},
   "source": [
    "<p>&nbsp;</p>\n",
    "<div style=\"border: 1px solid blue; padding: 10px;\">\n",
    "<p><span style=\"font-size: 14pt; color: #169179;\">The <a style=\"color: #169179;\" href=\"https://www.w3schools.com/python/ref_func_type.asp\" target=\"_blank\" rel=\"noopener\">type() </a>function can be used to get the Python data, class or other&nbsp; type of different variables or objects in Python</span></p>\n",
    "<p><span style=\"color: #169179;\"><strong><span style=\"font-size: 14pt;\">type(some_variable)</span></strong></span></p>\n",
    "<p><span style=\"font-size: 14pt; color: #169179;\">For fun, lets look at the data type for each item in <em>arr</em></span></p>\n",
    "</div>"
   ]
  },
  {
   "cell_type": "code",
   "execution_count": 3,
   "id": "bee9d6ea-20af-4a45-a6c3-d90417f46130",
   "metadata": {},
   "outputs": [
    {
     "name": "stdout",
     "output_type": "stream",
     "text": [
      "type for arr <class 'list'>\n",
      "type for members of arr: <class 'list'>   value: [4, 12]\n",
      "type for members of arr: <class 'list'>   value: [6, 18]\n",
      "type for members of arr: <class 'list'>   value: [8, 24]\n",
      "type for members of arr: <class 'list'>   value: [10, 30]\n"
     ]
    }
   ],
   "source": [
    "# iterate over arr and check the type of each member of arr\n",
    "print(f\"type for arr {type(arr)}\")\n",
    "for xx in arr:\n",
    "    print(f\"type for members of arr: {type(xx)}   value: {xx}\")"
   ]
  },
  {
   "cell_type": "markdown",
   "id": "19a2fd92-1aa6-43f0-8cdc-b2ff6302ae49",
   "metadata": {},
   "source": [
    "<h2>2. Dictionary of Dictionaries</h2>"
   ]
  },
  {
   "cell_type": "markdown",
   "id": "8f31009b-3baa-4ee7-8ca4-da34c05f4b38",
   "metadata": {},
   "source": [
    "<div style=\"border: 1px solid blue; padding: 10px;\">\n",
    "<p><span style=\"font-size: 14pt; color: #169179;\">A <strong>dictionary</strong> of <strong>dictionaries</strong> is a <strong>collection</strong> of dictionaries inside one single dictionary.</span></p>\n",
    "<p><span style=\"font-size: 14pt; color: #169179;\">Sometimes, when working with web API's, you will get nested dictionaries returned back to you.&nbsp;&nbsp;</span></p>\n",
    "<p><span style=\"font-size: 14pt; color: #169179;\">When ingesting data in the JSON format, Python will convert the data to dictionary of dictionaries (and often more complicated nests)</span></p>\n",
    "</div>"
   ]
  },
  {
   "cell_type": "code",
   "execution_count": 10,
   "id": "65f00a0d-b9d8-45c3-ae83-b7e841963b3d",
   "metadata": {},
   "outputs": [
    {
     "name": "stdout",
     "output_type": "stream",
     "text": [
      "Here are the keys for ww\n",
      "Joe Comeaux\n",
      "Marcus Banana\n",
      " Bob Builder\n",
      "\n",
      "\n",
      "Here are the values for ww\n",
      "{'age': 99, 'title': 'Sir Galahad', 'job': 'slaying dragons'}\n",
      "{'age': 77, 'title': 'Mr Roundtable', 'job': 'raising dragons'}\n",
      "{'age': 33, 'title': 'Mr Builder', 'job': 'building dragon pens'}\n"
     ]
    }
   ],
   "source": [
    "#  Create a dictionary of dictionaries\n",
    "\n",
    "ww = {\n",
    "  \"Joe Comeaux\": {\"age\":99,\"title\":\"Sir Galahad\",\"job\":\"slaying dragons\"},   # so each of value  is actually a dictionary\n",
    "  \"Marcus Banana\": {\"age\":77 ,\"title\":\"Mr Roundtable\",\"job\":\"raising dragons\"}, # so each of value  is actually a dictionary\n",
    "  \" Bob Builder\": {\"age\":33,\"title\":\"Mr Builder\",\"job\":\"building dragon pens\"} # so each of value  is actually a dictionary\n",
    "}\n",
    "\n",
    "# Lets look at just the keys for ww\n",
    "print(\"Here are the keys for ww\")\n",
    "for k in ww.keys():\n",
    "    print(k)\n",
    "    \n",
    "# now just the values -> note these are dictionaries\n",
    "print(\"\\n\\nHere are the values for ww\")\n",
    "for v in ww.values():\n",
    "    print(v)"
   ]
  },
  {
   "cell_type": "code",
   "execution_count": 20,
   "id": "078fd989-c910-400e-917c-13270984007e",
   "metadata": {},
   "outputs": [
    {
     "name": "stdout",
     "output_type": "stream",
     "text": [
      "This is Joe Comeaux\n",
      "    Their age is 99\n",
      "    Their title is Sir Galahad\n",
      "    Their job is slaying dragons\n",
      "\n",
      "\n",
      "This is Marcus Banana\n",
      "    Their age is 77\n",
      "    Their title is Mr Roundtable\n",
      "    Their job is raising dragons\n",
      "\n",
      "\n",
      "This is  Bob Builder\n",
      "    Their age is 33\n",
      "    Their title is Mr Builder\n",
      "    Their job is building dragon pens\n",
      "\n",
      "\n"
     ]
    }
   ],
   "source": [
    "# Now, lets tie the key and values together\n",
    "\n",
    "for k,v in ww.items():\n",
    "     print(f\"This is {k}\")  # note we are using an f-string here \n",
    "     for k2,v2 in v.items():  # as noted, the values in ww are dictionaries, so we can iterate over its keys and values using .items()\n",
    "          print(f\"    Their {k2} is {v2}\")  # kind of shows the real formatting power of f-strings\n",
    "     print(\"\\n\")"
   ]
  },
  {
   "cell_type": "markdown",
   "id": "21512a73-5d59-4fee-810b-79a143fc039a",
   "metadata": {},
   "source": [
    "<div style=\"border: 1px solid blue; padding: 10px;\">\n",
    "<p><span style=\"font-size: 14pt; color: #169179;\">Note that when you have a <strong>dictionary of dictionaries</strong>, only the <strong>values</strong> are <strong>affected</strong>.&nbsp; In <strong>ALL</strong> cases, you will have <strong>unique, single keys</strong> whose <strong>values</strong> can be <strong>scalar</strong> values (single values of a integer, float, string, boolean) OR the values can be another<strong> dictionary</strong> (and later we will learn they can be a <strong>list</strong>)</span></p>\n",
    "<p><span style=\"font-size: 14pt; color: #169179;\">So you can have:&nbsp;</span></p>\n",
    "<p><span style=\"font-size: 14pt; color: #169179;\">dict[\"key 1\"] = 45&nbsp; &nbsp; &nbsp; &nbsp; &nbsp; &nbsp; &nbsp; &nbsp; &nbsp; &nbsp; &nbsp; &nbsp; &nbsp; &nbsp; &nbsp; &nbsp; &nbsp; scalar (single) value</span></p>\n",
    "<p><span style=\"font-size: 14pt; color: #169179;\">dict[\"key 2\"]&nbsp; =&nbsp; [4,1,39,43,\"Jim\"]&nbsp; &nbsp; &nbsp; &nbsp; a list</span></p>\n",
    "<p><span style=\"font-size: 14pt; color: #169179;\">dict[\"key 3\"] =&nbsp; {\"a\":43,\"b\":14}&nbsp; &nbsp; &nbsp; &nbsp; &nbsp; &nbsp;a dictionary</span></p>\n",
    "<p><span style=\"font-size: 14pt; color: #169179;\">Note that in the above is a valid dictionary in that you can have all 3 in the same nested dictionary</span></p>\n",
    "</div>"
   ]
  },
  {
   "cell_type": "markdown",
   "id": "6972b680-4aa2-4fa6-8082-bd1cdfb9df56",
   "metadata": {},
   "source": [
    "<h2>3.&nbsp; Dictionary of Lists</h2>"
   ]
  },
  {
   "cell_type": "markdown",
   "id": "f0b87f71-0a40-4870-bb17-a4172663d22b",
   "metadata": {},
   "source": [
    "<div style=\"border: 1px solid blue; padding: 10px;\">\n",
    "<p><span style=\"font-size: 14pt; color: #169179;\">As noted above, a <strong>dictionary</strong> can have a <strong>list</strong> as part of they key:value pair, or in this case, <strong>key:[list]</strong>.</span></p>\n",
    "<p><span style=\"font-size: 14pt; color: #169179;\">Similar to the dictionary of dictionaries, these can be returned when working with web APIs or ingesting JSON data from text files.</span></p>\n",
    "</div>"
   ]
  },
  {
   "cell_type": "code",
   "execution_count": 24,
   "id": "0eab5997-a7eb-4a53-8970-5319f0c39396",
   "metadata": {},
   "outputs": [
    {
     "name": "stdout",
     "output_type": "stream",
     "text": [
      "{'Will Smith': [78, 92, 80, 79], 'Susan Smith': [96, 65, 56, 99]}\n"
     ]
    }
   ],
   "source": [
    "# create a dictionary of lists\n",
    "info = {\"Will Smith\":[78,92,80,79],\n",
    "        \"Susan Smith\":[96,65,56,99] \n",
    "}\n",
    "\n",
    "# Lets take a look at our dictionary of lists\n",
    "print(info)"
   ]
  },
  {
   "cell_type": "code",
   "execution_count": 30,
   "id": "79a8b1c0-ad8d-4d50-90b6-e775e91e8bf1",
   "metadata": {},
   "outputs": [
    {
     "name": "stdout",
     "output_type": "stream",
     "text": [
      "Will Smith has an average  grade of 82.25\n",
      "Susan Smith has an average  grade of 79.0\n",
      "\n",
      "\n",
      "Will Smith has an average  grade of 82.25\n",
      "Susan Smith has an average  grade of 79.0\n"
     ]
    }
   ],
   "source": [
    "# So our dictionary of lists contains student names as the keys, and grades as the values. \n",
    "# Lets get an average grade for each student\n",
    "\n",
    "# Here is one method\n",
    "for student,g in info.items():   # get the keys and values (lists) for dictionary info\n",
    "      total=0  # initialize a variable to adding up all the grades for each student to compute the mean\n",
    "      for val in g:  # iterate over all the grades for the student\n",
    "            total+=val   # add up all the grades to compute the average\n",
    "      grade = total/len(g)  # divide the sum of all grades by the number of grades to get the average\n",
    "      print(f\"{student} has an average  grade of {grade}\")\n",
    "print(\"\\n\")   # print out a space for the 2 processes\n",
    "\n",
    "# Here is a better way, using some the python sum method to add up all the grades for each student\n",
    "for student,g in info.items():\n",
    "      grade = sum(g)/len(g)    # we can use the sum() function to get the sum and divide by the # of elemetns\n",
    "      print(f\"{student} has an average  grade of {grade}\")"
   ]
  },
  {
   "cell_type": "markdown",
   "id": "38867934-0d6b-4193-8d25-2603abb357ca",
   "metadata": {},
   "source": [
    "<div style=\"border: 1px solid blue; padding: 10px\">\n",
    "<p><span style=\"font-size: 14pt; color: #169179;\">The python sum() function will compute the total sum of all values in a list</span></p>\n",
    "<p><span style=\"font-size: 14pt; color: #169179;\"><a style=\"color: #169179;\" href=\"https://www.geeksforgeeks.org/sum-function-python/\">https://www.geeksforgeeks.org/sum-function-python/</a></span></p>\n",
    "</div>"
   ]
  },
  {
   "cell_type": "markdown",
   "id": "9fde9b51-99ad-4cdc-a4d8-575f0956cb31",
   "metadata": {
    "tags": []
   },
   "source": [
    "<h2 id=\"4.--List-of-Dictionaries\">List of Dictionaries</h2>"
   ]
  },
  {
   "cell_type": "markdown",
   "id": "5cfc7d4d-cedd-41e5-86d9-db105879dc63",
   "metadata": {},
   "source": [
    "<p><span style=\"font-size: 14pt; color: #169179;\">A <strong>list</strong> of <strong>dictionaries</strong> is where the <strong>values</strong> of the <strong>elements</strong> of an array are <strong>dictionaries</strong>.&nbsp;&nbsp;</span></p>\n",
    "<p><span style=\"font-size: 14pt; color: #169179;\">This again can happen when working with web API and ingesting JSON data.&nbsp; This is probably more common than getting a dictionary of lists in terms of working with API and JSON data</span></p>"
   ]
  },
  {
   "cell_type": "code",
   "execution_count": 32,
   "id": "7fc72687-93e8-4290-8cd0-b7bfc2aa2023",
   "metadata": {},
   "outputs": [
    {
     "name": "stdout",
     "output_type": "stream",
     "text": [
      "[{'Jon Doe': [78, 98, 95, 90]}, {'Bob Doe': [75, 79, 91, 70]}, {'Sally Ride': [66, 88, 99, 100]}]\n"
     ]
    }
   ],
   "source": [
    "# Here is one way to create a list of dictionaries\n",
    "arr = [{\"Jon Doe\":[78,98,95,90]},{\"Bob Doe\":[75,79,91,70]},{\"Sally Ride\":[66,88,99,100]}]\n",
    "\n",
    "# Let's take a look at arr\n",
    "print(arr)"
   ]
  },
  {
   "cell_type": "code",
   "execution_count": 40,
   "id": "fb4eb184-ef30-4b65-ab63-d0c49971e6d1",
   "metadata": {},
   "outputs": [
    {
     "name": "stdout",
     "output_type": "stream",
     "text": [
      "{'Jon Doe': [78, 98, 95, 90]}\n",
      "Jon Doe average grade is 90.25\n",
      "\n",
      "{'Bob Doe': [75, 79, 91, 70]}\n",
      "Bob Doe average grade is 78.75\n",
      "\n",
      "{'Sally Ride': [66, 88, 99, 100]}\n",
      "Sally Ride average grade is 88.25\n",
      "\n"
     ]
    }
   ],
   "source": [
    "# we can iterate over the elements in our list as normal\n",
    "for student in arr:                     # iterate over all the elements in the list \n",
    "     print(student)                      # print out the element \n",
    "     for k,v in student.items():  # each element is a dictionary, so we can iterate over the key:value pairs\n",
    "          grade = sum(v)/len(v)   #  our value (v) is a list, so we can use the sum() function and len() fuction to compute the average grade\n",
    "     print(f\"{k} average grade is {grade}\\n\")  # print out the average grade fro each student\n",
    "        "
   ]
  },
  {
   "cell_type": "markdown",
   "id": "2c87a68d-3a13-402d-8560-c397e4f655a8",
   "metadata": {},
   "source": [
    "<p><span style=\"font-size: 14pt; color: #169179;\">We have covered some different fairly simple, <strong>nested list</strong> and <strong>dictionary</strong> examples.</span></p>\n",
    "<p><span style=\"font-size: 14pt; color: #169179;\">However, there is bascically <strong>no limit </strong>to the number of <strong>levels</strong> of <strong>nesting</strong>.&nbsp; </span></p>\n",
    "<p><span style=\"font-size: 14pt; color: #169179;\">For example, you can have lists nested with lists of dictionaries or dictionaries nested with dictionaries of lists of dictionaries, and so forth.&nbsp; </span></p>\n",
    "<p><strong><span style=\"font-size: 14pt; color: #169179;\">The deeper the nesting is, the harder it becomes to keep track of how to&nbsp; unpack the data at that level of the nest.&nbsp;</span></strong></p>\n",
    "<p>&nbsp;</p>\n",
    "<p><span style=\"font-size: 14pt; color: #169179;\">Lets just see one example</span></p>"
   ]
  },
  {
   "cell_type": "code",
   "execution_count": 13,
   "id": "424abbf3-1994-4ea2-84c7-40fbb22aef5c",
   "metadata": {},
   "outputs": [],
   "source": [
    "with open('data/user_info-short.json') as json_file:\n",
    "    data = json.load(json_file)\n",
    "    data"
   ]
  },
  {
   "cell_type": "code",
   "execution_count": 14,
   "id": "69c7c5a3-b6aa-4228-87bc-fdca581ed080",
   "metadata": {},
   "outputs": [
    {
     "data": {
      "text/plain": [
       "[{'_id': '5c0a28d7a647437fd3d3a6aa',\n",
       "  'index': 0,\n",
       "  'guid': '832f1af4-fb18-4ba8-b032-f4cbf343dbe9',\n",
       "  'isActive': False,\n",
       "  'balance': '$3,806.93',\n",
       "  'picture': 'http://placehold.it/32x32',\n",
       "  'age': 20,\n",
       "  'eyeColor': 'green',\n",
       "  'name': 'Grace Berry',\n",
       "  'gender': 'female',\n",
       "  'company': 'RODEMCO',\n",
       "  'email': 'graceberry@rodemco.com',\n",
       "  'phone': '+1 (814) 555-3298',\n",
       "  'address': '698 Kansas Place, Bethpage, Louisiana, 7695',\n",
       "  'registered': '2015-12-09T08:21:48 -06:-30',\n",
       "  'latitude': -65.630631,\n",
       "  'longitude': 131.991768,\n",
       "  'tags': ['eu', 'id', 'fugiat', 'deserunt', 'nulla', 'proident', 'laboris'],\n",
       "  'friends': [{'id': 0, 'name': 'Small Pena'},\n",
       "   {'id': 1, 'name': 'Sherry Mayo'},\n",
       "   {'id': 2, 'name': 'Medina Mcclain'}],\n",
       "  'greeting': 'Hello, Grace Berry! You have 1 unread messages.',\n",
       "  'favoriteFruit': 'strawberry'}]"
      ]
     },
     "execution_count": 14,
     "metadata": {},
     "output_type": "execute_result"
    }
   ],
   "source": [
    "data"
   ]
  },
  {
   "cell_type": "code",
   "execution_count": 34,
   "id": "0a80fe98-3410-4899-8a73-915e531d49d3",
   "metadata": {},
   "outputs": [
    {
     "name": "stdout",
     "output_type": "stream",
     "text": [
      "<class 'dict'>\n",
      "   key1: _id                     , value type: <class 'str'>\n",
      "   key1: index                   , value type: <class 'int'>\n",
      "   key1: guid                    , value type: <class 'str'>\n",
      "   key1: isActive                , value type: <class 'bool'>\n",
      "   key1: balance                 , value type: <class 'str'>\n",
      "   key1: picture                 , value type: <class 'str'>\n",
      "   key1: age                     , value type: <class 'int'>\n",
      "   key1: eyeColor                , value type: <class 'str'>\n",
      "   key1: name                    , value type: <class 'str'>\n",
      "   key1: gender                  , value type: <class 'str'>\n",
      "   key1: company                 , value type: <class 'str'>\n",
      "   key1: email                   , value type: <class 'str'>\n",
      "   key1: phone                   , value type: <class 'str'>\n",
      "   key1: address                 , value type: <class 'str'>\n",
      "   key1: registered              , value type: <class 'str'>\n",
      "   key1: latitude                , value type: <class 'float'>\n",
      "   key1: longitude               , value type: <class 'float'>\n",
      "   key1: tags                    , value type: <class 'list'>\n",
      "      elem1:eu    type<class 'str'>\n",
      "      elem1:id    type<class 'str'>\n",
      "      elem1:fugiat    type<class 'str'>\n",
      "      elem1:deserunt    type<class 'str'>\n",
      "      elem1:nulla    type<class 'str'>\n",
      "      elem1:proident    type<class 'str'>\n",
      "      elem1:laboris    type<class 'str'>\n",
      "   key1: friends                 , value type: <class 'list'>\n",
      "      elem1:{'id': 0, 'name': 'Small Pena'}    type<class 'dict'>\n",
      "          key2: id                      , value type: <class 'int'>\n",
      "          key2: name                    , value type: <class 'str'>\n",
      "      elem1:{'id': 1, 'name': 'Sherry Mayo'}    type<class 'dict'>\n",
      "          key2: id                      , value type: <class 'int'>\n",
      "          key2: name                    , value type: <class 'str'>\n",
      "      elem1:{'id': 2, 'name': 'Medina Mcclain'}    type<class 'dict'>\n",
      "          key2: id                      , value type: <class 'int'>\n",
      "          key2: name                    , value type: <class 'str'>\n",
      "   key1: greeting                , value type: <class 'str'>\n",
      "   key1: favoriteFruit           , value type: <class 'str'>\n"
     ]
    }
   ],
   "source": [
    "for user in data:\n",
    "    print(type(user))\n",
    "    for k1,v1 in user.items():\n",
    "        print(f\"   key1: {k1:24s}, value type: {type(v1)}\")\n",
    "        if (type(v1) == list):\n",
    "            for elem1 in v1:\n",
    "                  print(f\"      elem1:{elem1}    type{type(elem1)}\")\n",
    "                  if (type(elem1) == dict):\n",
    "                     for k2,v2 in elem1.items():\n",
    "                        print(f\"          key2: {k2:24s}, value type: {type(v2)}\")\n",
    "                            \n"
   ]
  },
  {
   "cell_type": "code",
   "execution_count": 49,
   "id": "661c7d6e-eda7-4904-8347-b7f1ce7e51a8",
   "metadata": {},
   "outputs": [
    {
     "name": "stdout",
     "output_type": "stream",
     "text": [
      "Name Grace Berry\n",
      "email:  graceberry@rodemco.com\n",
      "Phone:  +1 (814) 555-3298\n",
      "Tags:  ['eu', 'id', 'fugiat']\n",
      "Friend 1:  Small Pena\n",
      "Friend 2:  Sherry Mayo\n",
      "Friend 3:  Medina Mcclain\n"
     ]
    }
   ],
   "source": [
    "print(\"Name\",data[0][\"name\"])\n",
    "print(\"email: \",data[0][\"email\"])\n",
    "print(\"Phone: \",data[0][\"phone\"])\n",
    "print(\"Tags: \",data[0][\"tags\"][0:3])\n",
    "print(\"Friend 1: \",data[0][\"friends\"][0][\"name\"])\n",
    "print(\"Friend 2: \",data[0][\"friends\"][1][\"name\"])\n",
    "print(\"Friend 3: \",data[0][\"friends\"][2][\"name\"])"
   ]
  },
  {
   "cell_type": "markdown",
   "id": "59ca4915-af7d-4db6-aade-d09413e5c153",
   "metadata": {},
   "source": [
    "<div style=\"border: 1px solid blue; padding: 10px;\">\n",
    "<p><span style=\"font-size: 14pt; color: #169179;\">Lets create our own nested <strong>dictionary</strong> of <strong>lists</strong> of <strong>dictionaries</strong> of ....</span></p>\n",
    "</div>"
   ]
  },
  {
   "cell_type": "code",
   "execution_count": 84,
   "id": "9fe4bed6-ffe8-4a95-9639-4c6f0c8bcee5",
   "metadata": {},
   "outputs": [],
   "source": [
    "# Lets  start with any empty dictionary \n",
    "info = {}\n",
    "\n",
    "# and we have a list of dogs   we need to generate info for these, so this will be our keys for our primary dictionary\n",
    "names = [\"Labradore\",\"Poodle\",\"Yorkie\"]\n",
    "\n",
    "for dog in names:\n",
    "    info[dog]  = []\n",
    "    \n",
    "labradores = [\"Sam\",\"Spot\"]\n",
    "poodles = [\"Fluff\",\"Max\",\"Thor\"]\n",
    "yorkies = [\"Maxine\",\"Roxie\"]\n",
    "\n",
    "    \n",
    "sam = {\"name\":\"Sam\",\"age\":6,\"color\":\"black\",\"Friendly\":True}\n",
    "spot = {\"name\":\"Spot\",\"age\":4,\"color\":\"brown w/ green spots\",\"Friendly\":True}\n",
    "fluff = {\"name\":\"Fluff\",\"age\":9,\"color\":\"white\",\"Friendly\":False}\n",
    "maxx = {\"name\":\"Max\",\"age\":12,\"color\":\"tan\",\"Friendly\":False}\n",
    "thor = {\"name\":\"Thor\",\"age\":2,\"color\":\"red\",\"Friendly\":True}\n",
    "maxine = {\"name\":\"Maxine\",\"age\":.5,\"color\":\"mauve\",\"Friendly\":False}\n",
    "roxie = {\"name\":\"Roxie\",\"age\":3,\"color\":\"blue\",\"Friendly\":True}\n"
   ]
  },
  {
   "cell_type": "code",
   "execution_count": 85,
   "id": "a75ab7c5-d7fe-44d4-93fe-59006a5581d8",
   "metadata": {},
   "outputs": [
    {
     "data": {
      "text/plain": [
       "{'Labradore': [], 'Poodle': [], 'Yorkie': []}"
      ]
     },
     "execution_count": 85,
     "metadata": {},
     "output_type": "execute_result"
    }
   ],
   "source": [
    "info"
   ]
  },
  {
   "cell_type": "code",
   "execution_count": 86,
   "id": "3c25762d-413a-4628-bdcd-b6cb438acab4",
   "metadata": {},
   "outputs": [
    {
     "data": {
      "text/plain": [
       "[]"
      ]
     },
     "execution_count": 86,
     "metadata": {},
     "output_type": "execute_result"
    }
   ],
   "source": [
    "info[\"Labradore\"]"
   ]
  },
  {
   "cell_type": "code",
   "execution_count": 87,
   "id": "80aba6d2-dd77-4a65-8339-d95904449f4c",
   "metadata": {},
   "outputs": [],
   "source": [
    "info[\"Labradore\"].append(sam)\n",
    "info[\"Labradore\"].append(spot)"
   ]
  },
  {
   "cell_type": "code",
   "execution_count": 89,
   "id": "8f8efde6-0f5d-4a83-98fe-64e1de272dae",
   "metadata": {},
   "outputs": [
    {
     "name": "stdout",
     "output_type": "stream",
     "text": [
      "{'Labradore': [{'name': 'Sam', 'age': 6, 'color': 'black', 'Friendly': True}, {'name': 'Spot', 'age': 4, 'color': 'brown w/ green spots', 'Friendly': True}], 'Poodle': [], 'Yorkie': []}\n"
     ]
    }
   ],
   "source": [
    "print(info)"
   ]
  },
  {
   "cell_type": "code",
   "execution_count": 90,
   "id": "4435a109-cd14-4c25-8f73-fe6b7d93dd72",
   "metadata": {},
   "outputs": [],
   "source": [
    "\n",
    "\n",
    "for vv in [fluff,maxx,thor]:\n",
    "      info[\"Poodle\"].append(vv)\n",
    "# info[\"Poodle\"].append(fluff)\n",
    "# info[\"Poodle\"].append(maxx)\n",
    "# info[\"Poodle\"].append(thor)\n",
    "\n",
    "for vv in [maxine,thor]:\n",
    "     info[\"Yorkie\"].append(vv)\n",
    "# info[\"Yorkie\"].append(maxine)\n",
    "# info[\"Yorkie\"].append(thor)"
   ]
  },
  {
   "cell_type": "code",
   "execution_count": 92,
   "id": "22f34281-b11c-417d-963b-a58b8e5f7a2c",
   "metadata": {},
   "outputs": [
    {
     "data": {
      "text/plain": [
       "{'Labradore': [{'name': 'Sam', 'age': 6, 'color': 'black', 'Friendly': True},\n",
       "  {'name': 'Spot',\n",
       "   'age': 4,\n",
       "   'color': 'brown w/ green spots',\n",
       "   'Friendly': True}],\n",
       " 'Poodle': [{'name': 'Fluff', 'age': 9, 'color': 'white', 'Friendly': False},\n",
       "  {'name': 'Max', 'age': 12, 'color': 'tan', 'Friendly': False},\n",
       "  {'name': 'Thor', 'age': 2, 'color': 'red', 'Friendly': True}],\n",
       " 'Yorkie': [{'name': 'Maxine',\n",
       "   'age': 0.5,\n",
       "   'color': 'mauve',\n",
       "   'Friendly': False},\n",
       "  {'name': 'Thor', 'age': 2, 'color': 'red', 'Friendly': True}]}"
      ]
     },
     "execution_count": 92,
     "metadata": {},
     "output_type": "execute_result"
    }
   ],
   "source": [
    "info"
   ]
  },
  {
   "cell_type": "code",
   "execution_count": 83,
   "id": "56b8fd6e-5004-4550-902a-e6b710333398",
   "metadata": {},
   "outputs": [
    {
     "name": "stdout",
     "output_type": "stream",
     "text": [
      "{'name': 'Max', 'age': 12, 'color': 'tan', 'Friendly': False}\n",
      "{'name': 'Thor', 'age': 2, 'color': 'red', 'Friendly': True}\n"
     ]
    }
   ],
   "source": [
    "for a in [maxx,thor]:\n",
    "    print(a)"
   ]
  },
  {
   "cell_type": "code",
   "execution_count": 93,
   "id": "aa783e67-4578-4317-9814-981b5e6bcbc6",
   "metadata": {},
   "outputs": [
    {
     "data": {
      "text/plain": [
       "'Sam'"
      ]
     },
     "execution_count": 93,
     "metadata": {},
     "output_type": "execute_result"
    }
   ],
   "source": [
    "info[\"Labradore\"][0][\"name\"]"
   ]
  },
  {
   "cell_type": "code",
   "execution_count": 94,
   "id": "4f64ce81-4450-46d1-b82b-0379776cb143",
   "metadata": {},
   "outputs": [],
   "source": [
    "info[\"Labradore\"][0][\"Checkups\"] = []"
   ]
  },
  {
   "cell_type": "code",
   "execution_count": 95,
   "id": "52ee19d3-2a40-4a15-9ebb-45b6d46ab5d3",
   "metadata": {},
   "outputs": [],
   "source": [
    "info[\"Labradore\"][0][\"Checkups\"] = [2012,2015,2020]"
   ]
  },
  {
   "cell_type": "code",
   "execution_count": 96,
   "id": "07e98930-f789-45c3-a8c6-945ea58a3c65",
   "metadata": {},
   "outputs": [
    {
     "data": {
      "text/plain": [
       "{'Labradore': [{'name': 'Sam',\n",
       "   'age': 6,\n",
       "   'color': 'black',\n",
       "   'Friendly': True,\n",
       "   'Checkups': [2012, 2015, 2020]},\n",
       "  {'name': 'Spot',\n",
       "   'age': 4,\n",
       "   'color': 'brown w/ green spots',\n",
       "   'Friendly': True}],\n",
       " 'Poodle': [{'name': 'Fluff', 'age': 9, 'color': 'white', 'Friendly': False},\n",
       "  {'name': 'Max', 'age': 12, 'color': 'tan', 'Friendly': False},\n",
       "  {'name': 'Thor', 'age': 2, 'color': 'red', 'Friendly': True}],\n",
       " 'Yorkie': [{'name': 'Maxine',\n",
       "   'age': 0.5,\n",
       "   'color': 'mauve',\n",
       "   'Friendly': False},\n",
       "  {'name': 'Thor', 'age': 2, 'color': 'red', 'Friendly': True}]}"
      ]
     },
     "execution_count": 96,
     "metadata": {},
     "output_type": "execute_result"
    }
   ],
   "source": [
    "info"
   ]
  },
  {
   "cell_type": "code",
   "execution_count": 97,
   "id": "9d1085cd-b613-467c-891b-cadfee05fce9",
   "metadata": {},
   "outputs": [
    {
     "data": {
      "text/plain": [
       "[2012, 2015, 2020]"
      ]
     },
     "execution_count": 97,
     "metadata": {},
     "output_type": "execute_result"
    }
   ],
   "source": [
    "info[\"Labradore\"][0][\"Checkups\"]"
   ]
  },
  {
   "cell_type": "code",
   "execution_count": 98,
   "id": "eac7911b-377c-43da-8130-f124202016cd",
   "metadata": {},
   "outputs": [
    {
     "data": {
      "text/plain": [
       "2012"
      ]
     },
     "execution_count": 98,
     "metadata": {},
     "output_type": "execute_result"
    }
   ],
   "source": [
    "info[\"Labradore\"][0][\"Checkups\"][0]"
   ]
  },
  {
   "cell_type": "code",
   "execution_count": 99,
   "id": "d1731dac-e964-4874-9689-cf49abf09f2b",
   "metadata": {},
   "outputs": [
    {
     "name": "stdout",
     "output_type": "stream",
     "text": [
      "2012\n",
      "2015\n",
      "2020\n"
     ]
    }
   ],
   "source": [
    "for dates in info[\"Labradore\"][0][\"Checkups\"]:\n",
    "    print(dates)"
   ]
  },
  {
   "cell_type": "code",
   "execution_count": 101,
   "id": "cc029758-bb7d-4023-bf7e-badab3170270",
   "metadata": {},
   "outputs": [
    {
     "data": {
      "text/plain": [
       "{'name': 'Sam',\n",
       " 'age': 6,\n",
       " 'color': 'black',\n",
       " 'Friendly': True,\n",
       " 'Checkups': [2012, 2015, 2020]}"
      ]
     },
     "execution_count": 101,
     "metadata": {},
     "output_type": "execute_result"
    }
   ],
   "source": [
    "info[\"Labradore\"][0]"
   ]
  },
  {
   "cell_type": "code",
   "execution_count": null,
   "id": "e05140fc-f2fe-492a-8673-3421f4c7f351",
   "metadata": {},
   "outputs": [],
   "source": []
  }
 ],
 "metadata": {
  "kernelspec": {
   "display_name": "Python 3 (ipykernel)",
   "language": "python",
   "name": "python3"
  },
  "language_info": {
   "codemirror_mode": {
    "name": "ipython",
    "version": 3
   },
   "file_extension": ".py",
   "mimetype": "text/x-python",
   "name": "python",
   "nbconvert_exporter": "python",
   "pygments_lexer": "ipython3",
   "version": "3.9.13"
  }
 },
 "nbformat": 4,
 "nbformat_minor": 5
}
