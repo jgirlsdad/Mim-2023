{
 "cells": [
  {
   "cell_type": "markdown",
   "id": "739d0164-5bed-452b-ade7-b36fd8e250f1",
   "metadata": {},
   "source": [
    "# Program Flow Control"
   ]
  },
  {
   "cell_type": "markdown",
   "id": "46ea497b-adf5-4e03-b747-64b944cb4cc0",
   "metadata": {},
   "source": [
    "## if..elif...else"
   ]
  },
  {
   "cell_type": "markdown",
   "id": "09fcb119-d803-44e2-b50c-6d7a2ac62650",
   "metadata": {},
   "source": [
    "<div style=\"border: 1px solid blue;padding: 10px;font-family:Serif;color:green;font-size:18px\">\n",
    "The if/elif/else statemetns  allow for conditional execution of a statement or group of statements based on the value of an expression.\n",
    "</div>"
   ]
  },
  {
   "cell_type": "markdown",
   "id": "889f95e7-8f08-4467-981b-20219f5cb5cd",
   "metadata": {},
   "source": [
    "<div style=\"border: 1px solid blue;padding: 10px;font-family:Serif;color:green;font-size:18px\">\n",
    "Some of the conditions that can be used in an if statement:\n",
    "<ul>\n",
    "<li>Equals: a == b\n",
    "<li>Not Equals: a != b\n",
    "<li>Less than: a < b\n",
    "<li>Less than or equal to: a <= b\n",
    "<li>Greater than: a > b\n",
    "<li>Greater than or equal to: a >= b\n",
    "    </ul>\n",
    "</div>"
   ]
  },
  {
   "cell_type": "code",
   "execution_count": 1,
   "id": "7139de73-4ce0-4098-90f4-e2c079b2f76d",
   "metadata": {},
   "outputs": [
    {
     "name": "stdout",
     "output_type": "stream",
     "text": [
      "a is bigger than b\n"
     ]
    }
   ],
   "source": [
    "a = 10\n",
    "b = 6\n",
    "\n",
    "if (a > b):\n",
    "   print(\"a is bigger than b\")\n",
    "elif (b > a):\n",
    "   print(\"b is bigger than a\")\n",
    "   \n",
    "   "
   ]
  },
  {
   "cell_type": "code",
   "execution_count": 3,
   "id": "79464b11-998c-428a-8ad2-e2ca6ea95773",
   "metadata": {},
   "outputs": [
    {
     "name": "stdout",
     "output_type": "stream",
     "text": [
      "They are the same size\n"
     ]
    }
   ],
   "source": [
    "a = 6\n",
    "b = 6\n",
    "\n",
    "if (a > b):\n",
    "   print(\"a is bigger than b\")\n",
    "elif (b > a):\n",
    "   print(\"b is bigger than a\")\n",
    "else:\n",
    "    print(\"They are the same size\")\n",
    "   "
   ]
  },
  {
   "cell_type": "markdown",
   "id": "c06aa8d3-5c4d-43a3-9ef3-82297b9e28cc",
   "metadata": {},
   "source": [
    "<div style=\"border: 1px solid blue;padding: 10px;font-family:Serif;color:green;font-size:18px\">\n",
    "You can have more than 1 condition in the either the if or elif statements\n",
    "</div>"
   ]
  },
  {
   "cell_type": "code",
   "execution_count": 4,
   "id": "e684fa5b-f878-4aca-bb62-53bb6810995e",
   "metadata": {},
   "outputs": [
    {
     "name": "stdout",
     "output_type": "stream",
     "text": [
      "a is the smallest number\n"
     ]
    }
   ],
   "source": [
    "a = 4\n",
    "b = 7\n",
    "c = 9\n",
    "d = 5\n",
    "\n",
    "\n",
    "if (a < b and a < c and a < d):\n",
    "    print(\"a is the smallest number\")\n",
    "elif (b < a and b < c and b < d):\n",
    "    print(\"b is the smallest number\")"
   ]
  },
  {
   "cell_type": "markdown",
   "id": "02e7cabb-1d62-453f-915f-d8a8771fec77",
   "metadata": {},
   "source": [
    "<div style=\"border: 1px solid blue;padding: 10px;font-family:Serif;color:green;font-size:18px\">\n",
    "You can also use math cacluations (and functions, methods and many other things) as conditions\n",
    "</div>"
   ]
  },
  {
   "cell_type": "code",
   "execution_count": 7,
   "id": "2aa0f0e9-0586-4c4f-8d08-4a1e4a89817b",
   "metadata": {},
   "outputs": [
    {
     "name": "stdout",
     "output_type": "stream",
     "text": [
      "81 is > 78.32250000000002\n"
     ]
    }
   ],
   "source": [
    "g = 1\n",
    "c = 1.5\n",
    "d = 5.9\n",
    "e = 9\n",
    "\n",
    "\n",
    "if ( (c*d)**2 < (g*e)**2):\n",
    "    print(f\"{(g*e)**2} is > {(c*d)**2}\")\n"
   ]
  },
  {
   "cell_type": "markdown",
   "id": "d634fb05-9632-48a8-8705-f8fb3cad33dc",
   "metadata": {},
   "source": [
    "<div style=\"border: 1px solid blue;padding: 10px;font-family:Serif;color:green;font-size:18px\">\n",
    "You can use Booleans as conditions\n",
    "</div>"
   ]
  },
  {
   "cell_type": "code",
   "execution_count": 10,
   "id": "33825326-28f7-4812-90b6-3312884016dc",
   "metadata": {},
   "outputs": [
    {
     "name": "stdout",
     "output_type": "stream",
     "text": [
      "Not everyone is true\n"
     ]
    }
   ],
   "source": [
    "a = True\n",
    "b = False\n",
    "\n",
    "if (a == True and b == True):\n",
    "    print(\"Everyone is true\")\n",
    "else:\n",
    "    print(\"Not everyone is true\")"
   ]
  },
  {
   "cell_type": "markdown",
   "id": "88f35152-1cce-4417-ab57-a7f21aa9565e",
   "metadata": {},
   "source": [
    "<div style=\"border: 1px solid blue;padding: 10px;font-family:Serif;color:green;font-size:18px\">\n",
    "Note the difference:<p>\n",
    "a = 5 \n",
    "    \n",
    "and \n",
    "    \n",
    "if (a == 5): \n",
    " <br>   print(a)\n",
    "<p>\n",
    "    a = 5  <b>assigns</b> the value 5 to variable a<p>\n",
    "    a == 5   <b>compares</b> a to 5 to see if they are equal ... so,\n",
    "\n",
    " <b>BE CERTAIN TO USE == IN IF STATEMENTS</b>\n",
    "\n",
    "</div>"
   ]
  },
  {
   "cell_type": "markdown",
   "id": "33ea4431-a1d2-44da-93db-fc0a2495a3a0",
   "metadata": {},
   "source": [
    "<div style=\"border: 1px solid blue;padding: 10px;font-family:Serif;color:green;font-size:18px\">\n",
    "    <b>Your Turn!</b>\n",
    "    <p>On CoCalc, please do ifstatements.ipynb in assignments\n",
    "</div>"
   ]
  },
  {
   "cell_type": "markdown",
   "id": "d03fa0eb-24dd-4ee9-babb-c1f1dc00ea16",
   "metadata": {},
   "source": [
    "## FOR Loop"
   ]
  },
  {
   "cell_type": "markdown",
   "id": "7652ba5d-c70c-4406-b4c5-24586644c3b7",
   "metadata": {},
   "source": [
    "<div style=\"border: 1px solid blue;padding: 10px;font-family:Serif;color:green;font-size:18px\">\n",
    "\n",
    "FOR loops allow you to perform tasks many times or iterate over a range of number or items\n",
    "<p>\n",
    "https://www.w3schools.com/python/python_for_loops.asp\n",
    "    \n",
    "</div>"
   ]
  },
  {
   "cell_type": "code",
   "execution_count": 11,
   "id": "2a86ea71-877f-44f6-bd66-ed106c0a24ad",
   "metadata": {},
   "outputs": [
    {
     "name": "stdout",
     "output_type": "stream",
     "text": [
      "0\n",
      "1\n",
      "2\n",
      "3\n",
      "4\n"
     ]
    }
   ],
   "source": [
    "for nn in range(0,5):\n",
    "    print(nn)"
   ]
  },
  {
   "cell_type": "markdown",
   "id": "96b42300-481c-4f21-b5e4-555fb293d310",
   "metadata": {},
   "source": [
    "<div style=\"border: 1px solid blue;padding: 10px;font-family:Serif;color:green;font-size:18px\">\n",
    "    <b>range(start,end)</b>  generates a series of numbers from start to end-1\n",
    "https://www.w3schools.com/python/ref_func_range.asp\n",
    "</div>"
   ]
  },
  {
   "cell_type": "code",
   "execution_count": 12,
   "id": "853251ce-2f24-44da-9562-52c568338366",
   "metadata": {},
   "outputs": [
    {
     "name": "stdout",
     "output_type": "stream",
     "text": [
      "6\n",
      "9\n",
      "12\n",
      "15\n",
      "18\n",
      "21\n",
      "24\n",
      "27\n"
     ]
    }
   ],
   "source": [
    "# You can also add an increment to the range function\n",
    "\n",
    "for mm in range(6,30,3):\n",
    "    print(mm)"
   ]
  },
  {
   "cell_type": "markdown",
   "id": "908d5bbe-9f0a-4b88-8c7e-e9aed3621b53",
   "metadata": {},
   "source": [
    "<div style=\"border: 1px solid blue;padding: 10px;font-family:Serif;color:green;font-size:18px\">\n",
    "You can stop a loop from iterating by using break and an if statement\n",
    "</div>"
   ]
  },
  {
   "cell_type": "code",
   "execution_count": 13,
   "id": "442087d6-9bca-4d1d-a1ae-e0cd4aafdad1",
   "metadata": {},
   "outputs": [
    {
     "name": "stdout",
     "output_type": "stream",
     "text": [
      "1\n",
      "2\n",
      "3\n",
      "4\n",
      "5\n",
      "6\n",
      "7\n",
      "8\n",
      "9\n",
      "10\n",
      "11\n"
     ]
    }
   ],
   "source": [
    "for xx in range(1,30):\n",
    "    print(xx)\n",
    "    if (xx > 10):\n",
    "        break"
   ]
  },
  {
   "cell_type": "markdown",
   "id": "c758330e-0121-4806-b18e-bc7145cdd49c",
   "metadata": {},
   "source": [
    "<div style=\"border: 1px solid blue;padding: 10px;font-family:Serif;color:green;font-size:18px\">\n",
    "\n",
    "A powerful features of loops is the ability to <b>nest</b> them.    \n",
    "A <b>nested</b> loop is a loop inside a loop.\n",
    "\n",
    "The \"inner loop\" will be executed one time for each iteration of the \"outer loop\":\n",
    "    \n",
    "</div>    "
   ]
  },
  {
   "cell_type": "code",
   "execution_count": 15,
   "id": "ed393a84-e3cd-4ac1-bbf9-1d8c7871d38f",
   "metadata": {},
   "outputs": [
    {
     "name": "stdout",
     "output_type": "stream",
     "text": [
      "iteration = 1  nn = 0   mm = 0\n",
      "iteration = 2  nn = 0   mm = 1\n",
      "iteration = 3  nn = 0   mm = 2\n",
      "iteration = 4  nn = 1   mm = 0\n",
      "iteration = 5  nn = 1   mm = 1\n",
      "iteration = 6  nn = 1   mm = 2\n",
      "iteration = 7  nn = 2   mm = 0\n",
      "iteration = 8  nn = 2   mm = 1\n",
      "iteration = 9  nn = 2   mm = 2\n",
      "iteration = 10  nn = 3   mm = 0\n",
      "iteration = 11  nn = 3   mm = 1\n",
      "iteration = 12  nn = 3   mm = 2\n",
      "iteration = 13  nn = 4   mm = 0\n",
      "iteration = 14  nn = 4   mm = 1\n",
      "iteration = 15  nn = 4   mm = 2\n"
     ]
    }
   ],
   "source": [
    "nit=0\n",
    "for nn in range(0,5):\n",
    "    for mm in range(0,3):\n",
    "        nit+=1\n",
    "        print(f\"iteration = {nit}  nn = {nn}   mm = {mm}\")"
   ]
  },
  {
   "cell_type": "markdown",
   "id": "d48a8950-296b-4314-a950-5ddbcfe4fa96",
   "metadata": {},
   "source": [
    "<div style=\"border: 1px solid blue;padding: 10px;font-family:Serif;color:green;font-size:18px\">\n",
    "This is just the statring point for loops.  There is much, much more and we will cover it as we go along.\n",
    "</div>    "
   ]
  },
  {
   "cell_type": "markdown",
   "id": "759bd74d-cc13-492d-85e6-e19cf4dee910",
   "metadata": {},
   "source": [
    "<div style=\"border: 1px solid blue;padding: 10px;font-family:Serif;color:green;font-size:18px\">\n",
    "    Your Turn... on  <a href=\"cocalc.com\">CoCal</a> Do the <b>FORloops</b> Assignment\n",
    "</div>"
   ]
  },
  {
   "cell_type": "code",
   "execution_count": null,
   "id": "b2f2a745-b5e6-4116-a56d-122d633e1e6c",
   "metadata": {},
   "outputs": [],
   "source": []
  }
 ],
 "metadata": {
  "kernelspec": {
   "display_name": "Python 3 (ipykernel)",
   "language": "python",
   "name": "python3"
  },
  "language_info": {
   "codemirror_mode": {
    "name": "ipython",
    "version": 3
   },
   "file_extension": ".py",
   "mimetype": "text/x-python",
   "name": "python",
   "nbconvert_exporter": "python",
   "pygments_lexer": "ipython3",
   "version": "3.9.12"
  }
 },
 "nbformat": 4,
 "nbformat_minor": 5
}
