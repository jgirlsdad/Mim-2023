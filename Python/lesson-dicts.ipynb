{
 "cells": [
  {
   "cell_type": "markdown",
   "id": "e02d25fe-0f8e-4b83-ae54-c500aeeaa4f1",
   "metadata": {
    "tags": []
   },
   "source": [
    "<h1 id=\"Dictionaries\">Dictionaries</h1>"
   ]
  },
  {
   "cell_type": "markdown",
   "id": "6eda5c3c-8f4b-4a37-84f7-c45bb0adcadd",
   "metadata": {},
   "source": [
    "<p><span style=\"font-size: 14pt;\"><span style=\"color: #169179;\"><strong>Dicionaries</strong>&nbsp;</span><span style=\"color: #169179;\">is a collection which is ordered*, changeable and do <strong>not allow duplicates</strong> </span></span></p>\n",
    "<p><span style=\"color: #169179; font-size: 14pt;\">Note: In earlier vesions of Python (&lt; V3.7), dictionaries are NOT ordere</span></p>\n",
    "<p><span style=\"color: #169179; font-size: 14pt;\"><strong>Dictionaries</strong> differ from <strong>lists</strong> primarily in how <strong>elements</strong> are <strong>accessed</strong>:</span></p>\n",
    "<ul>\n",
    "<li><span style=\"color: #169179; font-size: 14pt;\"><strong>List</strong> elements are accessed by their <strong>position </strong>in the list, via <strong>indexing</strong>. </span></li>\n",
    "<li><span style=\"color: #169179; font-size: 14pt;\"><strong>Dictionary</strong> elements are accessed <strong>via key</strong></span></li>\n",
    "<li><a title=\"https://www.geeksforgeeks.org/difference-between-list-and-dictionary-in-python/\" href=\"https://www.geeksforgeeks.org/difference-between-list-and-dictionary-in-python/\"><span style=\"color: #169179; font-size: 14pt;\"><span style=\"color: #169179;\"><span style=\"font-size: 18.6667px;\"><strong>https://www.geeksforgeeks.org/difference-between-list-and-dictionary-in-python/</strong></span></span></span></a></li>\n",
    "</ul>"
   ]
  },
  {
   "cell_type": "markdown",
   "id": "474b105c-20be-42af-b25d-0a1855293caf",
   "metadata": {},
   "source": [
    "\n",
    "![images/dict-list.jpeg](images/dict-list.jpeg)"
   ]
  },
  {
   "cell_type": "markdown",
   "id": "cabcf517-7e5d-45f5-8678-b05465b59dfc",
   "metadata": {},
   "source": [
    "<p>&nbsp;</p>\n",
    "<p><span style=\"color: #169179; font-size: 14pt;\">Lets <strong>create</strong> a a <strong>dictionary</strong></span></p>"
   ]
  },
  {
   "cell_type": "code",
   "execution_count": 3,
   "id": "e48e4d79-ccbc-40ce-9548-63e8588f0ca9",
   "metadata": {},
   "outputs": [
    {
     "name": "stdout",
     "output_type": "stream",
     "text": [
      "{'one': 'Joe', 'two': 99, 'three': \"UFO's\"}\n"
     ]
    }
   ],
   "source": [
    "# create the dictionary\n",
    "d = {\"one\":\"Joe\",\"two\":99,\"three\":\"UFO's\"}\n",
    "# we can print the whole dictionary\n",
    "print(d)\n"
   ]
  },
  {
   "cell_type": "markdown",
   "id": "535eb193-f8db-4f09-ab1d-6e53d9809b2d",
   "metadata": {},
   "source": [
    "<div style=\"border: 1px solid blue; padding: 10px;\"><span style=\"font-size: 14pt; color: #169179;\"><strong>Access</strong>&nbsp; all the <strong>keys</strong></span>\n",
    "<div>&nbsp;</div>\n",
    "<span style=\"font-size: 14pt; color: #169179;\"><strong>dict.keys()&nbsp; </strong>-&gt; returns all the keys as&nbsp; a list</span></div>"
   ]
  },
  {
   "cell_type": "code",
   "execution_count": 4,
   "id": "36b26b56-09b8-48f7-be1d-4dfaa4b96ede",
   "metadata": {},
   "outputs": [
    {
     "name": "stdout",
     "output_type": "stream",
     "text": [
      "dict_keys(['one', 'two', 'three'])\n"
     ]
    }
   ],
   "source": [
    "# Or print Just the keys \n",
    "print(d.keys())"
   ]
  },
  {
   "cell_type": "markdown",
   "id": "355c475e-b51c-4055-82e2-fc902847182e",
   "metadata": {},
   "source": [
    "<div style=\"border: 1px solid blue; padding: 10px;\"><span style=\"font-size: 14pt; color: #169179;\"><strong>Access</strong> all the <strong>values<br /></strong><br /><strong>dict.values()</strong> &nbsp;-&gt; returns all the <strong>values</strong> as&nbsp; a list</span></div>"
   ]
  },
  {
   "cell_type": "code",
   "execution_count": null,
   "id": "22d26421-e495-4bb5-afaf-08b185f36545",
   "metadata": {},
   "outputs": [
    {
     "name": "stdout",
     "output_type": "stream",
     "text": [
      "dict_values(['Joe', 99, \"UFO's\"])\n"
     ]
    }
   ],
   "source": [
    "# Or print just the Values\n",
    "print(d.values())"
   ]
  },
  {
   "cell_type": "markdown",
   "id": "a1ca9b76-ff92-4474-bcc0-73774e50a989",
   "metadata": {},
   "source": [
    "<div style=\"border: 1px solid blue; padding: 10px;\"><span style=\"color: #169179; font-size: 14pt;\"><strong>Access</strong> both the<strong> keys and values</strong></span> <br /><br /><span style=\"color: #169179; font-size: 14pt;\"><strong>dict.items()</strong>&nbsp; -&gt; returns both the keys and values back as pairs (key,value), in a list</span></div>"
   ]
  },
  {
   "cell_type": "code",
   "execution_count": 6,
   "id": "17801de4-5e8d-4ef4-bd6b-0f925a90cf51",
   "metadata": {},
   "outputs": [
    {
     "name": "stdout",
     "output_type": "stream",
     "text": [
      "dict_items([('one', 'Joe'), ('two', 99), ('three', \"UFO's\")])\n",
      "one Joe\n",
      "two 99\n",
      "three UFO's\n"
     ]
    }
   ],
   "source": [
    "# print all values\n",
    "print(d.items())\n",
    "# or iterage ove  both the keys and values ... this is probably the more common way to use items()\n",
    "for k,v in d.items():\n",
    "    print (k,v)"
   ]
  },
  {
   "cell_type": "markdown",
   "id": "7e51a807-5ccb-4667-8411-2b206389aa4a",
   "metadata": {},
   "source": [
    "<div  style=\"border: 1px solid blue; padding: 10px\"><span style=\"font-size: 14pt; color: #169179;\">Here are all the <strong>methods</strong> available for working with <strong>dicionaries</strong></span>\n",
    "<p><span style=\"font-size: 14pt; color: #169179;\"><strong><a title=\"https://www.w3schools.com/python/python_ref_dictionary.asp\" href=\"https://www.w3schools.com/python/python_ref_dictionary.asp\" target=\"_blank\" rel=\"noopener\">https://www.w3schools.com/python/python_ref_dictionary.asp</a></strong></span>\n",
    "</div>"
   ]
  },
  {
   "cell_type": "markdown",
   "id": "49c16a2a-9bff-4860-ae9f-8e78b16f9ea5",
   "metadata": {},
   "source": [
    "<div style=\"border: 1px solid blue; padding: 10px;\"><span style=\"font-size: 14pt; color: #169179; background-color: #ffffff;\">As noted, the <strong>keys</strong> in a a dictionary <strong>must</strong> be <strong>unqiue</strong></span></div>"
   ]
  },
  {
   "cell_type": "code",
   "execution_count": 9,
   "id": "ee065f2d-b251-47f3-bd5e-4bba0eea0ee3",
   "metadata": {},
   "outputs": [
    {
     "name": "stdout",
     "output_type": "stream",
     "text": [
      "{'name': 'Joe', 'Age': 99, 'Hobby': \"UFO's\"}\n"
     ]
    }
   ],
   "source": [
    "# This is our original dictioanry\n",
    "d = {\"name\":\"Joe\",\"Age\":99,\"Hobby\":\"UFO's\",}\n",
    "print(d)"
   ]
  },
  {
   "cell_type": "code",
   "execution_count": 10,
   "id": "09aa8e60-e0b6-4c8f-8451-83d88bd32cff",
   "metadata": {},
   "outputs": [
    {
     "name": "stdout",
     "output_type": "stream",
     "text": [
      "{'name': 'Bob', 'Age': 33, 'Hobby': 'Painting'}\n"
     ]
    }
   ],
   "source": [
    "# What if we try to add multiple values with for the same keys\n",
    "d = {\"name\":\"Joe\",\"Age\":99,\"Hobby\":\"UFO's\",\n",
    "    \"name\":\"Bob\",\"Age\":33,\"Hobby\":\"Painting\"\n",
    "    }\n",
    "print(d)"
   ]
  },
  {
   "cell_type": "markdown",
   "id": "05ce68f7-cb7c-4603-91a3-e33e122ffb3e",
   "metadata": {},
   "source": [
    "<p>I</p>"
   ]
  },
  {
   "cell_type": "markdown",
   "id": "0019cbc0-6da5-4861-8496-ed1bba060eed",
   "metadata": {},
   "source": [
    "<div><span style=\"color: #169179; font-size: 14pt;\">Note in the above example how keys with same name are over-written</span></div>"
   ]
  },
  {
   "cell_type": "code",
   "execution_count": 11,
   "id": "9915586a-d66a-44c7-b8fb-ad7fdb27ba63",
   "metadata": {},
   "outputs": [
    {
     "name": "stdout",
     "output_type": "stream",
     "text": [
      "{'a': 'great', 'size': 4.35, 'mass': 4.5}\n"
     ]
    }
   ],
   "source": [
    "# what happens if we add another \"name\" key\n",
    "d = {\"a\":\"great\",\"size\":4.35,\"mass\":4.5}\n",
    "print(d)"
   ]
  },
  {
   "cell_type": "markdown",
   "id": "e6edd025-8d9e-4463-926b-220d5b5cafcd",
   "metadata": {},
   "source": [
    "<div style=\"border: 1px solid blue; padding: 10px;\"><span style=\"font-size: 14pt; color: #169179;\">We can easily add <strong>new&nbsp; (key,value) pairs</strong> simple by:&nbsp;<br /><br /></span> <strong><span style=\"font-size: 14pt; color: #169179;\">d[\"new key\"] = new_value<br /><br /><br /></span></strong><span style=\"font-size: 14pt; color: #169179;\">Lets try it:</span></div>"
   ]
  },
  {
   "cell_type": "code",
   "execution_count": 2,
   "id": "f2745e5f-bc6c-48a5-a085-ed50ab1ea5e1",
   "metadata": {},
   "outputs": [
    {
     "name": "stdout",
     "output_type": "stream",
     "text": [
      "{'a': 'great', 'size': 4.35, 'mass': 4.5, 'awesome new key': 'awesome new value'}\n"
     ]
    }
   ],
   "source": [
    "d[\"awesome new key\"] = \"awesome new value\"\n",
    "print(d)"
   ]
  },
  {
   "cell_type": "code",
   "execution_count": 12,
   "id": "be75f3eb-b70d-4ed2-81b8-e6bb5b4a9563",
   "metadata": {},
   "outputs": [
    {
     "name": "stdout",
     "output_type": "stream",
     "text": [
      "{'a': 'great', 'size': 4.35, 'mass': 4.5, 4: 341.3333333333333, 5: 781.25, 6: 1555.2}\n"
     ]
    }
   ],
   "source": [
    "# Cool...Lets add multiple values to our dictionary\n",
    "\n",
    "for nn in range(4,7):\n",
    "    d[nn] = (nn**2)/(nn-1)  * nn**3\n",
    "    \n",
    "print(d)"
   ]
  },
  {
   "cell_type": "code",
   "execution_count": 13,
   "id": "e2678501-fbd4-45fc-b35e-227a2e1d071f",
   "metadata": {},
   "outputs": [
    {
     "name": "stdout",
     "output_type": "stream",
     "text": [
      "a great\n",
      "size 4.35\n",
      "mass 4.5\n",
      "4 341.3333333333333\n",
      "5 781.25\n",
      "6 1555.2\n"
     ]
    }
   ],
   "source": [
    "# that is hard to see... this is where .items() becomes useful\n",
    "for k,v in d.items():\n",
    "     print(k,v)"
   ]
  },
  {
   "cell_type": "markdown",
   "id": "a5178948-1540-4ddc-a6b8-575b2b985dec",
   "metadata": {},
   "source": [
    "<div style=\"border: 1px solid blue; padding: 10px;\"><span style=\"font-size: 14pt; color: #169179;\">Similar to lists,&nbsp; if you want to make a <strong>new copy</strong> of an existing list</span><br /><span style=\"font-size: 14pt; color: #169179;\">you need to use&nbsp;</span> <strong><span style=\"font-size: 14pt; color: #169179;\">new_dict = old_dict.copy()<br /></span></strong></div>"
   ]
  },
  {
   "cell_type": "code",
   "execution_count": 14,
   "id": "59b0fdb1-0e8a-48f0-95db-532f7d30f862",
   "metadata": {},
   "outputs": [
    {
     "name": "stdout",
     "output_type": "stream",
     "text": [
      "{1: 'a', 2: 'b', 3: 'c', 4: 'd'}\n"
     ]
    }
   ],
   "source": [
    "dd = {1:\"a\",2:\"b\",3:\"c\",4:\"d\"}\n",
    "print(dd)"
   ]
  },
  {
   "cell_type": "code",
   "execution_count": 15,
   "id": "05b25998-674c-4ac3-a8a9-1ac0c45e2a92",
   "metadata": {},
   "outputs": [
    {
     "name": "stdout",
     "output_type": "stream",
     "text": [
      "{1: 1, 2: 'b', 3: 'c', 4: 'd', 'a': 1}\n",
      "{1: 1, 2: 'b', 3: 'c', 4: 'd', 'a': 1}\n"
     ]
    }
   ],
   "source": [
    "# WRONG WAY -> not how changing values in ee  also CHANGES Values in the original, dd\n",
    "ee = dd\n",
    "ee[1] = 1\n",
    "ee[\"a\"] = 1 \n",
    "print(ee)\n",
    "print(dd)"
   ]
  },
  {
   "cell_type": "code",
   "execution_count": 16,
   "id": "a0e5d494-bcf0-4af9-94ff-c6f0881a363f",
   "metadata": {},
   "outputs": [
    {
     "name": "stdout",
     "output_type": "stream",
     "text": [
      "{1: 1, 2: 'b', 3: 'c', 4: 'd', 'a': 1}\n",
      "{1: 'a', 2: 'b', 3: 'c', 4: 'd'}\n"
     ]
    }
   ],
   "source": [
    "# Correct Way \n",
    "dd = {1:\"a\",2:\"b\",3:\"c\",4:\"d\"}\n",
    "ee = dd.copy()\n",
    "ee[1] = 1\n",
    "ee[\"a\"] = 1 \n",
    "print(ee)\n",
    "print(dd)\n",
    "\n",
    "#  now that is MUCH better"
   ]
  },
  {
   "cell_type": "markdown",
   "id": "0d61fbc8-b665-4e80-820f-3e38d29c8eb9",
   "metadata": {},
   "source": [
    "<div style=\"border: 1px solid blue; padding: 10px\">\n",
    "<div><span style=\"font-size: 14pt; color: #169179;\">One final thing... you can also create <strong>empty dictionaries</strong> like this:&nbsp;</span>\n",
    "\n",
    "<strong><span style=\"font-size: 14pt; color: #169179;\">some_dict = {}&nbsp; &nbsp;</span></strong></div>\n",
    "<div>&nbsp;</div>\n",
    "<div><span style=\"font-size: 14pt; color: #169179;\">remember... lists are&nbsp; &nbsp;</span></div>\n",
    "<div>&nbsp;</div>\n",
    "<div><span style=\"font-size: 14pt; color: #169179;\">some_list = []</span></div>\n",
    "</div>"
   ]
  },
  {
   "cell_type": "code",
   "execution_count": 20,
   "id": "639a2a56-1f3f-46ba-aa39-a2bafc68356a",
   "metadata": {},
   "outputs": [
    {
     "name": "stdout",
     "output_type": "stream",
     "text": [
      "key 0   value  0.0\n",
      "key 1   value  2.75\n",
      "key 2   value  5.5\n",
      "key 3   value  8.25\n",
      "key 4   value  11.0\n"
     ]
    }
   ],
   "source": [
    "# create an empty dictionary\n",
    "tt = {}\n",
    "\n",
    "# now populate it\n",
    "for xx in range(5):\n",
    "    tt[xx] = xx*11/4\n",
    "    \n",
    "# lets take a look at it    \n",
    "for kk,vv in tt.items():\n",
    "    print(\"key\",kk,\"  value \",vv)"
   ]
  },
  {
   "cell_type": "code",
   "execution_count": 21,
   "id": "146bcc44-00d0-43cd-9183-6c3c61fa040a",
   "metadata": {},
   "outputs": [
    {
     "ename": "NameError",
     "evalue": "name 'yy' is not defined",
     "output_type": "error",
     "traceback": [
      "\u001b[1;31m---------------------------------------------------------------------------\u001b[0m",
      "\u001b[1;31mNameError\u001b[0m                                 Traceback (most recent call last)",
      "\u001b[1;32m~\\AppData\\Local\\Temp\\ipykernel_40008\\1391936997.py\u001b[0m in \u001b[0;36m<module>\u001b[1;34m\u001b[0m\n\u001b[0;32m      1\u001b[0m \u001b[1;31m#  what happens if we do NOT create an empty dictionary before populating it\u001b[0m\u001b[1;33m\u001b[0m\u001b[1;33m\u001b[0m\u001b[0m\n\u001b[0;32m      2\u001b[0m \u001b[1;32mfor\u001b[0m \u001b[0mxx\u001b[0m \u001b[1;32min\u001b[0m \u001b[0mrange\u001b[0m\u001b[1;33m(\u001b[0m\u001b[1;36m5\u001b[0m\u001b[1;33m)\u001b[0m\u001b[1;33m:\u001b[0m\u001b[1;33m\u001b[0m\u001b[1;33m\u001b[0m\u001b[0m\n\u001b[1;32m----> 3\u001b[1;33m     \u001b[0myy\u001b[0m\u001b[1;33m[\u001b[0m\u001b[0mxx\u001b[0m\u001b[1;33m]\u001b[0m \u001b[1;33m=\u001b[0m \u001b[0mxx\u001b[0m\u001b[1;33m*\u001b[0m\u001b[1;36m11\u001b[0m\u001b[1;33m/\u001b[0m\u001b[1;36m4\u001b[0m\u001b[1;33m\u001b[0m\u001b[1;33m\u001b[0m\u001b[0m\n\u001b[0m\u001b[0;32m      4\u001b[0m \u001b[1;33m\u001b[0m\u001b[0m\n\u001b[0;32m      5\u001b[0m \u001b[1;31m# Cannot be done\u001b[0m\u001b[1;33m\u001b[0m\u001b[1;33m\u001b[0m\u001b[0m\n",
      "\u001b[1;31mNameError\u001b[0m: name 'yy' is not defined"
     ]
    }
   ],
   "source": [
    "#  what happens if we do NOT create an empty dictionary before populating it\n",
    "for xx in range(5):\n",
    "    yy[xx] = xx*11/4\n",
    "    \n",
    "# Cannot be done"
   ]
  },
  {
   "cell_type": "markdown",
   "id": "272d2a4f-10e7-4e38-8bdb-a2b2634d9502",
   "metadata": {},
   "source": [
    "<div style=\"border: 1px solid blue; padding: 10px;\">\n",
    "<p><span style=\"font-size: 14pt; color: #169179;\">Here is a great resource for practing coding dictionaries</span></p>\n",
    "<p><span style=\"font-size: 18pt;\"><a title=\"Practice with Dictionaries\" href=\"https://pynative.com/python-dictionary-exercise-with-solutions/#h-exercise-1-convert-two-lists-into-a-dictionary\" target=\"_blank\" rel=\"noopener\">Dictionary Practice</a></span></p>\n",
    "<p><span style=\"font-size: 18pt;\"><a href=\"https://sparkbyexamples.com/python/python-dictionary-with-examples/\" target=\"_blank\" rel=\"noopener\">More examples</a></span></p>\n",
    "</div>"
   ]
  },
  {
   "cell_type": "markdown",
   "id": "82e7732e-3ec7-4287-9d34-bb3db6818539",
   "metadata": {},
   "source": [
    "<div style=\"border: 1px solid blue; padding: 10px\">\n",
    "<p><span style=\"font-size: 14pt; color: #169179;\"><strong>Question:</strong></span></p>\n",
    "<p><span style=\"font-size: 14pt; color: #169179;\">So why learn about lists and dictionaries if much of our work as Data Analyst and Scientist will be done in Pandas (and numpy)?</span></p>\n",
    "<p><span style=\"font-size: 14pt; color: #169179;\"><strong>Answer:</strong></span></p>\n",
    "<ol>\n",
    "<li><span style=\"font-size: 14pt; color: #169179;\">Lists and dictionaries have many, many uses and there will be times when you need to perform tasks that are more easily done with simple lists and dictionaries instead of Pandas Dataframes</span></li>\n",
    "<li><span style=\"font-size: 14pt; color: #169179;\">Many Python Libraries, like Pandas, have functions and methods that will return output as either a List or a Dictionary, so you need to know how to work with these:&nbsp;</span>\n",
    "<ul>\n",
    "<li><span style=\"font-size: 14pt; color: #169179;\">We have already seen this as dict.keys(), dict.values() and dict.items() return quasi like lists</span></li>\n",
    "</ul>\n",
    "</li>\n",
    "</ol>\n",
    "</div>"
   ]
  },
  {
   "cell_type": "markdown",
   "id": "c0f0f5d4-8d47-4f38-91b7-6b5a3632eefb",
   "metadata": {},
   "source": [
    "<div style=\"border: 1px solid blue; padding: 10px\">\n",
    "<p><span style=\"font-size: 14pt; color: #169179;\">You have now seen some of the <strong>functionality</strong> of <strong>lists</strong> and <strong>dictionaries</strong>.&nbsp; However, what really makes these very <strong>powerful</strong>, and helps <strong>Python</strong> be such a great Language for <strong>Data Analytics</strong> and <strong>Data Science,</strong> is that you can actually <strong><span style=\"color: #ba372a;\">NEST</span></strong>&nbsp; <strong>lists</strong> and <strong>dictionaries</strong> <strong>together</strong>, to create <strong>lists of dictionaries</strong> and <strong>dictionaries of lists</strong>, and there is almost <strong>no limit</strong> to the depth of the <strong>nesting</strong>.&nbsp; The next lesson will touch on this!</span></p>\n",
    "</div>"
   ]
  },
  {
   "cell_type": "markdown",
   "id": "070f90ba-1375-4213-a58f-d7dadd65ab19",
   "metadata": {},
   "source": [
    "<span style=\"font-size: 24pt;\"><a href=\"lesson-lists.ipynb\" target=\"_blank\" rel=\"noopener\">Nesting Lists and Dictionaries</a></span>"
   ]
  }
 ],
 "metadata": {
  "kernelspec": {
   "display_name": "Python 3 (ipykernel)",
   "language": "python",
   "name": "python3"
  },
  "language_info": {
   "codemirror_mode": {
    "name": "ipython",
    "version": 3
   },
   "file_extension": ".py",
   "mimetype": "text/x-python",
   "name": "python",
   "nbconvert_exporter": "python",
   "pygments_lexer": "ipython3",
   "version": "3.9.13"
  }
 },
 "nbformat": 4,
 "nbformat_minor": 5
}
