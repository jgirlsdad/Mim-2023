{
 "cells": [
  {
   "cell_type": "markdown",
   "id": "baaff962-7828-419f-b96b-50502ba93695",
   "metadata": {},
   "source": [
    "# Data Structures"
   ]
  },
  {
   "cell_type": "markdown",
   "id": "eb1d8469-3c15-4915-8fdc-3a6d04db2b8a",
   "metadata": {},
   "source": [
    "<div style=\"border: 1px solid blue;padding: 10px;font-family:Serif;color:green;font-size:18px\">\n",
    "The weakness of variables is that they can only hold one piece of data.\n",
    "<p>\n",
    "<p>\n",
    "<b>Lists</b> and <b>Dictionaries</b> are data structures that allow for the storage of large amounts of data in memory\n",
    "</div>"
   ]
  },
  {
   "cell_type": "markdown",
   "id": "35109fc8-e8e5-4708-80e1-77507775981c",
   "metadata": {},
   "source": [
    "## Lists Defintion"
   ]
  },
  {
   "cell_type": "markdown",
   "id": "15fae644-3fa1-42cb-8ff7-fe9375503949",
   "metadata": {},
   "source": [
    "<div style=\"border: 1px solid blue;padding: 10px;font-family:Serif;color:green;font-size:18px\">\n",
    "<ul>\n",
    "    <li>A Python <b>list</b> is an ordered and changeable collection of data objects.<br>\n",
    "    <li><b>Ordered</b> means that hte items in the list stay in <b>same</b> order in which they are put into the list\n",
    "<li>A list can contain a mixture of objects.\n",
    "<li>The individual pieces of data in the list are sometimes called items or members\n",
    "    </ul>\n",
    "\n",
    "</div>"
   ]
  },
  {
   "cell_type": "markdown",
   "id": "c19ce1fa-aed3-4db9-852b-d8bc1d6abecc",
   "metadata": {},
   "source": [
    "<div style=\"border: 1px solid blue;padding: 10px;font-family:Serif;color:green;font-size:18px\">\n",
    "\n",
    "<img src=\"images/list1.png\">\n",
    "<br>\n",
    "This list contains 5 items\n",
    "20\n",
    "'Edpresso'\n",
    "Another list\n",
    "3.142\n",
    "None\n",
    "<p>\n",
    "Note how the 1st item in the list is considered item 0, then 2nd items is item 1...<p>\n",
    "i.e. Python starts counting the items at 0\n",
    "</div>"
   ]
  },
  {
   "cell_type": "code",
   "execution_count": 3,
   "id": "dcdcfbab-074d-4d64-97d3-79745ba06036",
   "metadata": {},
   "outputs": [
    {
     "name": "stdout",
     "output_type": "stream",
     "text": [
      "[3, 4, 'here', 'There', True]\n"
     ]
    }
   ],
   "source": [
    "# This is how we create a list\n",
    "a = [3,4,\"here\",\"There\",True]\n",
    "print(a)"
   ]
  },
  {
   "cell_type": "markdown",
   "id": "f493521a-994e-4e8e-8840-fcce5aef74a6",
   "metadata": {},
   "source": [
    "## List Iteration"
   ]
  },
  {
   "cell_type": "code",
   "execution_count": 4,
   "id": "9d64ec70-ced8-472d-b413-3c9a5bc3f28a",
   "metadata": {},
   "outputs": [
    {
     "name": "stdout",
     "output_type": "stream",
     "text": [
      "3\n",
      "4\n",
      "here\n",
      "There\n",
      "True\n"
     ]
    }
   ],
   "source": [
    "# This is how we iterate over our list.. using our friend, the for loop!\n",
    "for b in a:\n",
    "    print(b)"
   ]
  },
  {
   "cell_type": "code",
   "execution_count": 6,
   "id": "7d955122-7ace-426a-aa48-028c0d239b45",
   "metadata": {},
   "outputs": [
    {
     "name": "stdout",
     "output_type": "stream",
     "text": [
      "The number of items in our list is 5\n"
     ]
    }
   ],
   "source": [
    "# len() will return the number of items in the list\n",
    "print(f\"The number of items in our list is {len(a)}\")"
   ]
  },
  {
   "cell_type": "code",
   "execution_count": 7,
   "id": "bb8e3485-5361-4299-aa7f-af2dbac3d7a8",
   "metadata": {},
   "outputs": [
    {
     "name": "stdout",
     "output_type": "stream",
     "text": [
      "3\n",
      "There\n"
     ]
    }
   ],
   "source": [
    "# You can access invididual members or items\n",
    "print(a[0])\n",
    "print(a[3])"
   ]
  },
  {
   "cell_type": "markdown",
   "id": "0e5f6539-f304-419e-b860-449ad15a20e0",
   "metadata": {},
   "source": [
    "## List Slices"
   ]
  },
  {
   "cell_type": "markdown",
   "id": "6232af73-5e52-452a-b58b-8345c8e8d22a",
   "metadata": {},
   "source": [
    "<div style=\"border: 1px solid blue;padding: 10px;font-family:Serif;color:green;font-size:18px\">\n",
    "    Python allows you to access subsets or slices of an array using:<br>\n",
    "    <b>list[start,end,increment]</b><br> method we say with the range function.  \n",
    "<ul>\n",
    "    <li>Note again that this will go to <b>end-1</b> and not <b>end</b>\n",
    "    <li>If you leave of increment, it defaults to 1\n",
    "    </ul>\n",
    "</div>"
   ]
  },
  {
   "cell_type": "code",
   "execution_count": 9,
   "id": "53d4ee7d-1a1b-4fbe-a671-b45fddd9e1a3",
   "metadata": {},
   "outputs": [
    {
     "name": "stdout",
     "output_type": "stream",
     "text": [
      "[3, 4, 'here', 'There']\n",
      "[3]\n"
     ]
    }
   ],
   "source": [
    "# access items 0 thru 3\n",
    "print(a[0:4])\n",
    "\n",
    "# access just the 1st item\n",
    "print(a[0:1])"
   ]
  },
  {
   "cell_type": "markdown",
   "id": "cfa96b34-86af-45d5-b2c0-42c0978957eb",
   "metadata": {},
   "source": [
    "<div style=\"border: 1px solid blue;padding: 10px;font-family:Serif;color:green;font-size:18px\">\n",
    "This method of accessing slices has some other awesome features for accessing slices of a list\n",
    "<br>\n",
    "list[2:]<br>\n",
    "list[:2]<br>\n",
    "list[-1]<br>\n",
    "list[0:4:2]<br>\n",
    "<p>\n",
    "Lets try these out\n",
    "</div>"
   ]
  },
  {
   "cell_type": "code",
   "execution_count": 11,
   "id": "9bc74a8a-733d-4203-a9ee-caedfba340a5",
   "metadata": {},
   "outputs": [
    {
     "name": "stdout",
     "output_type": "stream",
     "text": [
      "[3, 4, 'here', 'There', True]\n"
     ]
    }
   ],
   "source": [
    "# here are all the items again:\n",
    "print(a)"
   ]
  },
  {
   "cell_type": "code",
   "execution_count": 10,
   "id": "d3fc2015-d18b-4fce-9f52-91a3ae662800",
   "metadata": {},
   "outputs": [
    {
     "name": "stdout",
     "output_type": "stream",
     "text": [
      "['here', 'There', True]\n"
     ]
    }
   ],
   "source": [
    "print(a[2:])"
   ]
  },
  {
   "cell_type": "code",
   "execution_count": 12,
   "id": "ae7f0b02-f288-4976-bd85-c361ea05d012",
   "metadata": {},
   "outputs": [
    {
     "name": "stdout",
     "output_type": "stream",
     "text": [
      "[3, 4]\n"
     ]
    }
   ],
   "source": [
    "print(a[:2])"
   ]
  },
  {
   "cell_type": "code",
   "execution_count": 13,
   "id": "315463f7-d5a0-4011-a66c-74b7c0b955dd",
   "metadata": {},
   "outputs": [
    {
     "name": "stdout",
     "output_type": "stream",
     "text": [
      "True\n"
     ]
    }
   ],
   "source": [
    "print(a[-1])"
   ]
  },
  {
   "cell_type": "code",
   "execution_count": 16,
   "id": "1700307e-f93f-408b-8eab-dc4c88052070",
   "metadata": {},
   "outputs": [
    {
     "name": "stdout",
     "output_type": "stream",
     "text": [
      "[3, 'here', True]\n"
     ]
    }
   ],
   "source": [
    "# Print out every other item \n",
    "print(a[::2])"
   ]
  },
  {
   "cell_type": "markdown",
   "id": "048be37d-72f2-4668-b7c6-3719e8c2f6ee",
   "metadata": {},
   "source": [
    "<div style=\"border: 1px solid blue;padding: 10px;font-family:Serif;color:green;font-size:18px\">\n",
    "There is a LOT going on in the last example:<br>\n",
    " a[::2]<br>\n",
    "WHen using a slice, if you leave off the start, the it defaults to 0, if you leave off the end, it defaults to the last items of the list<p>\n",
    " \n",
    "So <br>\n",
    "print(a) is the same as <br>\n",
    "print(a[::])\n",
    "</div>"
   ]
  },
  {
   "cell_type": "code",
   "execution_count": 17,
   "id": "73f76a53-5d58-4f85-965e-51f4fe975c55",
   "metadata": {},
   "outputs": [
    {
     "name": "stdout",
     "output_type": "stream",
     "text": [
      "[3, 4, 'here', 'There', True]\n"
     ]
    }
   ],
   "source": [
    "print(a[::])"
   ]
  },
  {
   "cell_type": "markdown",
   "id": "1bec8864-308f-4fc2-8c66-b0230aeec9b6",
   "metadata": {},
   "source": [
    "## List Iteration by Index"
   ]
  },
  {
   "cell_type": "code",
   "execution_count": 18,
   "id": "73fe205e-4f97-4392-9125-2a61d195ae96",
   "metadata": {},
   "outputs": [
    {
     "name": "stdout",
     "output_type": "stream",
     "text": [
      "0 3\n",
      "1 4\n",
      "2 here\n",
      "3 There\n",
      "4 True\n"
     ]
    }
   ],
   "source": [
    "# Here is another way to iterate over all the items in a list\n",
    "\n",
    "for nn in range(len(a)):\n",
    "    print(nn,a[nn])\n",
    "\n"
   ]
  },
  {
   "cell_type": "code",
   "execution_count": 19,
   "id": "e1736d3b-23c7-41a9-8bed-609bfff0dcf3",
   "metadata": {},
   "outputs": [
    {
     "name": "stdout",
     "output_type": "stream",
     "text": [
      "[0, 1, 2, 3, 4]\n"
     ]
    }
   ],
   "source": [
    "# This can be usefull for changing items in the list\n",
    "for nn in range(len(a)):\n",
    "    a[nn] = nn\n",
    "    \n",
    "print(a)"
   ]
  },
  {
   "cell_type": "markdown",
   "id": "edcc1de9-174a-4670-ac84-d5dd47ef65db",
   "metadata": {},
   "source": [
    "<div style=\"border: 1px solid blue;padding: 10px;font-family:Serif;color:green;font-size:18px\">\n",
    "So individual items or members can be changed!!  Awsome\n",
    "</div>"
   ]
  },
  {
   "cell_type": "markdown",
   "id": "da8e0c82-1231-436b-a8d6-811b13178f05",
   "metadata": {},
   "source": [
    "## Change Item Values"
   ]
  },
  {
   "cell_type": "code",
   "execution_count": 21,
   "id": "dbed1bf7-ff9f-4ca4-9333-9470e585562b",
   "metadata": {},
   "outputs": [
    {
     "name": "stdout",
     "output_type": "stream",
     "text": [
      "[3, 4, 'here', 'There', True]\n"
     ]
    }
   ],
   "source": [
    "a = [3,4,\"here\",\"There\",True]\n",
    "print(a)"
   ]
  },
  {
   "cell_type": "code",
   "execution_count": 22,
   "id": "233add7f-14e4-4a71-afe1-c6920bf8c1b9",
   "metadata": {},
   "outputs": [
    {
     "name": "stdout",
     "output_type": "stream",
     "text": [
      "[3, 4, 'here', 'Gone', True]\n"
     ]
    }
   ],
   "source": [
    "a[3] = \"Gone\"\n",
    "print(a)"
   ]
  },
  {
   "cell_type": "code",
   "execution_count": 23,
   "id": "1dc6b682-138f-484d-911d-96a9076e2417",
   "metadata": {},
   "outputs": [
    {
     "name": "stdout",
     "output_type": "stream",
     "text": [
      "[3, 4, 'here', 'Gone', 'TTThhhhfffttt']\n"
     ]
    }
   ],
   "source": [
    "a[4] = \"TTThhhhfffttt\"\n",
    "print(a)"
   ]
  },
  {
   "cell_type": "code",
   "execution_count": 24,
   "id": "24b17be5-a795-45ea-8c16-da33ec321f8f",
   "metadata": {},
   "outputs": [
    {
     "ename": "IndexError",
     "evalue": "list assignment index out of range",
     "output_type": "error",
     "traceback": [
      "\u001b[1;31m---------------------------------------------------------------------------\u001b[0m",
      "\u001b[1;31mIndexError\u001b[0m                                Traceback (most recent call last)",
      "Input \u001b[1;32mIn [24]\u001b[0m, in \u001b[0;36m<cell line: 1>\u001b[1;34m()\u001b[0m\n\u001b[1;32m----> 1\u001b[0m a[\u001b[38;5;241m5\u001b[39m] \u001b[38;5;241m=\u001b[39m \u001b[38;5;124m\"\u001b[39m\u001b[38;5;124mI need another item\u001b[39m\u001b[38;5;124m\"\u001b[39m\n",
      "\u001b[1;31mIndexError\u001b[0m: list assignment index out of range"
     ]
    }
   ],
   "source": [
    "# Lets add another item to our list\n",
    "a[5] = \"I need another item\""
   ]
  },
  {
   "cell_type": "markdown",
   "id": "03e1d7aa-f601-4166-9542-0920a33d811e",
   "metadata": {},
   "source": [
    "## Add Values to a List "
   ]
  },
  {
   "cell_type": "markdown",
   "id": "e3f58b22-0eab-4b20-8e9a-00c1629dbd6a",
   "metadata": {},
   "source": [
    "<div style=\"border: 1px solid blue;padding: 10px;font-family:Serif;color:green;font-size:18px\">\n",
    "You need to use the <br>\n",
    "    <b>append()</b><br>\n",
    "method to add items to your list\n",
    "    <p>\n",
    "Note the append() item put the new item at the end of the list!!\n",
    "</div>"
   ]
  },
  {
   "cell_type": "code",
   "execution_count": 28,
   "id": "9c76ee92-e436-44f4-ba87-074012df08a5",
   "metadata": {},
   "outputs": [
    {
     "name": "stdout",
     "output_type": "stream",
     "text": [
      "7\n",
      "[3, 4, 'here', 'Gone', 'TTThhhhfffttt', 'I need another item', 'I need another item', 'I need another item']\n",
      "8\n"
     ]
    }
   ],
   "source": [
    "# \n",
    "print(len(a))\n",
    "a.append(\"I need another item\")\n",
    "print(a)\n",
    "print(len(a))"
   ]
  },
  {
   "cell_type": "markdown",
   "id": "3f991246-1fb1-4406-8e7d-0606ffe2137b",
   "metadata": {},
   "source": [
    "<div style=\"border: 1px solid blue;padding: 10px;font-family:Serif;color:green;font-size:18px\">\n",
    "Here are some of the methods available for lists\n",
    "<a href=\"https://docs.python.org/3/tutorial/datastructures.html\">https://docs.python.org/3/tutorial/datastructures.html</a>\n",
    "    \n",
    "</div>"
   ]
  },
  {
   "cell_type": "markdown",
   "id": "af6388f8-4ba3-45ed-95a8-d509268d390f",
   "metadata": {},
   "source": [
    "## Some useful List methods"
   ]
  },
  {
   "cell_type": "markdown",
   "id": "e347b17a-dec8-4f15-9e41-5de2bb9af4db",
   "metadata": {},
   "source": [
    "<div style=\"border: 1px solid blue;padding: 10px;font-family:Serif;color:green;font-size:18px\">\n",
    "A few other useful methods for lists:<br>\n",
    "list.sort() - sort the items in the list<br>\n",
    "list.pop() - remove an item from the list and return the value to you<br>\n",
    "list.count() - count the number of times a value occurs in the list<br>\n",
    "</div>"
   ]
  },
  {
   "cell_type": "code",
   "execution_count": 32,
   "id": "77de8f10-a59f-4942-9728-ef96fbe03b4d",
   "metadata": {},
   "outputs": [
    {
     "data": {
      "text/plain": [
       "[4, 2, -9, 10, 1, 34]"
      ]
     },
     "execution_count": 32,
     "metadata": {},
     "output_type": "execute_result"
    }
   ],
   "source": [
    "someList = [4,2,-9,10,1,34]\n",
    "someList"
   ]
  },
  {
   "cell_type": "code",
   "execution_count": 33,
   "id": "bca2a37a-0a7e-4d6e-93a4-d860192e745a",
   "metadata": {},
   "outputs": [
    {
     "data": {
      "text/plain": [
       "[-9, 1, 2, 4, 10, 34]"
      ]
     },
     "execution_count": 33,
     "metadata": {},
     "output_type": "execute_result"
    }
   ],
   "source": [
    "someList.sort()\n",
    "someList"
   ]
  },
  {
   "cell_type": "code",
   "execution_count": 36,
   "id": "a2bbff54-8bb6-4cd6-b643-22075508983f",
   "metadata": {},
   "outputs": [
    {
     "data": {
      "text/plain": [
       "[34, 10, 4, 2, 1, -9]"
      ]
     },
     "execution_count": 36,
     "metadata": {},
     "output_type": "execute_result"
    }
   ],
   "source": [
    "someList.sort(reverse=True)\n",
    "someList"
   ]
  },
  {
   "cell_type": "code",
   "execution_count": 39,
   "id": "23eccf78-227a-40ab-abf7-3c989d12dbff",
   "metadata": {},
   "outputs": [
    {
     "data": {
      "text/plain": [
       "[34, 10, 4, 2, 1, -9]"
      ]
     },
     "execution_count": 39,
     "metadata": {},
     "output_type": "execute_result"
    }
   ],
   "source": [
    "# NOTE:  reverse DOES NOT SORT.. it simply  re-orders the list os that the last items is now first\n",
    "\n",
    "someList.reverse()\n",
    "someList"
   ]
  },
  {
   "cell_type": "code",
   "execution_count": 40,
   "id": "2dbc6585-7c9c-432f-bc82-e61ba7bd94e3",
   "metadata": {},
   "outputs": [
    {
     "data": {
      "text/plain": [
       "-9"
      ]
     },
     "execution_count": 40,
     "metadata": {},
     "output_type": "execute_result"
    }
   ],
   "source": [
    "#  lets try list.pop()\n",
    "# with no input value, it pop off the last item in the list\n",
    "someList.pop()"
   ]
  },
  {
   "cell_type": "code",
   "execution_count": 41,
   "id": "85b462d9-80c6-4b69-a37b-51453ac0f864",
   "metadata": {},
   "outputs": [
    {
     "data": {
      "text/plain": [
       "[34, 10, 4, 2, 1]"
      ]
     },
     "execution_count": 41,
     "metadata": {},
     "output_type": "execute_result"
    }
   ],
   "source": [
    "someList"
   ]
  },
  {
   "cell_type": "code",
   "execution_count": 42,
   "id": "d078ead4-5c20-4d6f-a677-b597be774865",
   "metadata": {},
   "outputs": [
    {
     "data": {
      "text/plain": [
       "[34, 10, 4, 1]"
      ]
     },
     "execution_count": 42,
     "metadata": {},
     "output_type": "execute_result"
    }
   ],
   "source": [
    "# if a number is passed to pop(), it pops off the item at that index in the list\n",
    "someList.pop(3)\n",
    "someList"
   ]
  },
  {
   "cell_type": "code",
   "execution_count": 43,
   "id": "20771a63-9881-429c-a673-c9cef1843178",
   "metadata": {},
   "outputs": [
    {
     "data": {
      "text/plain": [
       "1"
      ]
     },
     "execution_count": 43,
     "metadata": {},
     "output_type": "execute_result"
    }
   ],
   "source": [
    "# Finally... list.count()\n",
    "\n",
    "someList.count(4)"
   ]
  },
  {
   "cell_type": "code",
   "execution_count": 44,
   "id": "7982a6d5-dfc7-4a6d-a92a-a14a222e9ac3",
   "metadata": {},
   "outputs": [],
   "source": [
    "someList.append(4)"
   ]
  },
  {
   "cell_type": "code",
   "execution_count": 45,
   "id": "7d899fc3-0367-4980-87d0-2e17b6423cc7",
   "metadata": {},
   "outputs": [
    {
     "data": {
      "text/plain": [
       "2"
      ]
     },
     "execution_count": 45,
     "metadata": {},
     "output_type": "execute_result"
    }
   ],
   "source": [
    "someList.count(4)"
   ]
  },
  {
   "cell_type": "markdown",
   "id": "100d1bf3-bbc4-469a-b5d4-d0ab8f8aea45",
   "metadata": {},
   "source": [
    "<div style=\"border: 1px solid blue;padding: 10px;font-family:Serif;color:green;font-size:18px\">\n",
    "One last usefull bit of knowledge...<br>\n",
    "You can create an empty list, then add values later\n",
    "    \n",
    "</div>    "
   ]
  },
  {
   "cell_type": "code",
   "execution_count": 46,
   "id": "df8c9f26-df09-47f5-92f1-435be18a76bf",
   "metadata": {},
   "outputs": [
    {
     "name": "stdout",
     "output_type": "stream",
     "text": [
      "[]\n",
      "0\n"
     ]
    }
   ],
   "source": [
    "m = []\n",
    "print(m)\n",
    "print(len(m))"
   ]
  },
  {
   "cell_type": "code",
   "execution_count": 47,
   "id": "9175180f-7a21-40dd-ae70-07808008f109",
   "metadata": {},
   "outputs": [
    {
     "name": "stdout",
     "output_type": "stream",
     "text": [
      "[5, 0, 1, 64, 729, 4096, 15625]\n"
     ]
    }
   ],
   "source": [
    "m.append(5)\n",
    "\n",
    "for nn in range(6):\n",
    "    m.append(nn**6)\n",
    "print(m)"
   ]
  },
  {
   "cell_type": "markdown",
   "id": "46c70c07-c0a2-4b5a-8baf-8bb61432a10c",
   "metadata": {},
   "source": [
    "<div style=\"border: 1px solid blue;padding: 10px;font-family:Serif;color:green;font-size:18px\">\n",
    "and you can set lists equal to other lists\n",
    "</div>"
   ]
  },
  {
   "cell_type": "code",
   "execution_count": 54,
   "id": "d9af14b7-5952-48c2-8e6d-5b1151baab4e",
   "metadata": {},
   "outputs": [],
   "source": [
    "a = [94,56.7,.1,29.9]\n",
    "b = a"
   ]
  },
  {
   "cell_type": "code",
   "execution_count": 55,
   "id": "4d762099-4be2-4f54-ad3e-9fd05887fc5d",
   "metadata": {},
   "outputs": [
    {
     "name": "stdout",
     "output_type": "stream",
     "text": [
      "[94, 56.7, 0.1, 29.9]\n"
     ]
    }
   ],
   "source": [
    "print(b)"
   ]
  },
  {
   "cell_type": "code",
   "execution_count": 56,
   "id": "a8f18285-e41f-4622-aa6e-f89cbc0bc4ac",
   "metadata": {},
   "outputs": [
    {
     "name": "stdout",
     "output_type": "stream",
     "text": [
      "[94, 56.7, 'NO NO NO', 29.9]\n"
     ]
    }
   ],
   "source": [
    "b[2] = \"NO NO NO\"\n",
    "print(b)"
   ]
  },
  {
   "cell_type": "code",
   "execution_count": 57,
   "id": "9a9dfda0-4f49-4af2-a21f-e55835181d54",
   "metadata": {},
   "outputs": [
    {
     "name": "stdout",
     "output_type": "stream",
     "text": [
      "[94, 56.7, 'NO NO NO', 29.9]\n"
     ]
    }
   ],
   "source": [
    "print(a)"
   ]
  },
  {
   "cell_type": "code",
   "execution_count": 58,
   "id": "7cbc6b0c-744f-429a-97ba-925fa4cb2d5f",
   "metadata": {},
   "outputs": [],
   "source": [
    "b = a.copy()"
   ]
  },
  {
   "cell_type": "code",
   "execution_count": 59,
   "id": "52353c12-53ec-40d1-be4f-2ab00acc4141",
   "metadata": {},
   "outputs": [
    {
     "name": "stdout",
     "output_type": "stream",
     "text": [
      "[94, 56.7, 'NO NO NO', 'Thats better']\n"
     ]
    }
   ],
   "source": [
    "b[3] = \"Thats better\"\n",
    "print(b)"
   ]
  },
  {
   "cell_type": "code",
   "execution_count": 60,
   "id": "c241f944-53ef-4ce3-b18a-9d4417f3ad36",
   "metadata": {},
   "outputs": [
    {
     "name": "stdout",
     "output_type": "stream",
     "text": [
      "[94, 56.7, 'NO NO NO', 29.9]\n"
     ]
    }
   ],
   "source": [
    "print(a)\n"
   ]
  },
  {
   "cell_type": "markdown",
   "id": "f63844d2-4b22-4ff0-92d2-bc85bae7283b",
   "metadata": {},
   "source": [
    "## List Comprehension"
   ]
  },
  {
   "cell_type": "markdown",
   "id": "19e8a7b5-a496-4163-bf2b-845f0703b5d0",
   "metadata": {},
   "source": [
    "<div style=\"border: 1px solid blue;padding: 10px;font-family:Serif;color:green;font-size:18px\">\n",
    "\n",
    "<b>List comprehension</b> offers a shorter syntax when you want to create a new list based on the values of an existing list.\n",
    "    \n",
    "<p>\n",
    "List comprehension <b> does not</b> add any new functionality!\n",
    "<p>\n",
    "    However, it is a newer (slightly advanced) concept and it is <b>expected</b> you will understand this concept and utilize the method in your code\n",
    "<p> format: <br>\n",
    " <b>newList = [ expression(element) for element in oldList ] </b>\n",
    "<p>\n",
    "<a href=\"https://www.w3schools.com/python/python_lists_comprehension.asp\">https://www.w3schools.com/python/python_lists_comprehension.asp</a>\n",
    "<p>\n",
    "<a href=\"https://www.geeksforgeeks.org/python-list-comprehension/\">https://www.geeksforgeeks.org/python-list-comprehension/</a>\n",
    "</div>"
   ]
  },
  {
   "cell_type": "code",
   "execution_count": 61,
   "id": "44279f4e-ace8-4249-90fc-b18fc779b137",
   "metadata": {},
   "outputs": [
    {
     "name": "stdout",
     "output_type": "stream",
     "text": [
      "[1, 4, 9, 16, 25, 36, 49]\n"
     ]
    }
   ],
   "source": [
    "# List comprehension is a kind of short-hand method for completing oprations like below\n",
    "\n",
    "h = [1,2,3,4,5,6,7]\n",
    "g = []\n",
    "\n",
    "for val in h:\n",
    "    g.append(val**2)\n",
    "print(g)"
   ]
  },
  {
   "cell_type": "code",
   "execution_count": 62,
   "id": "f6ea1415-a13e-48b4-b893-c9d63f8e8d9b",
   "metadata": {},
   "outputs": [
    {
     "name": "stdout",
     "output_type": "stream",
     "text": [
      "[1, 4, 9, 16, 25, 36, 49]\n"
     ]
    }
   ],
   "source": [
    "#  Using list comprehension: \n",
    "\n",
    "j = [val**2 for val in h]\n",
    "print(j)"
   ]
  },
  {
   "cell_type": "markdown",
   "id": "0550b745-0d9f-4ec2-a7be-1441c80b8270",
   "metadata": {},
   "source": [
    "<div style=\"border: 1px solid blue;padding: 10px;font-family:Serif;color:green;font-size:18px\">\n",
    "    You can also add <b>condtions</b> to list copmprension:<br>\n",
    "    newList = [ expression(element) for element in oldList <b>if condition</b> ] \n",
    "    \n",
    "</div>"
   ]
  },
  {
   "cell_type": "code",
   "execution_count": 64,
   "id": "fb4013bc-624a-4421-8ec7-5b4eb094bc5e",
   "metadata": {},
   "outputs": [
    {
     "name": "stdout",
     "output_type": "stream",
     "text": [
      "[4, 16, 36]\n"
     ]
    }
   ],
   "source": [
    "# Only output new values if the old value is an even number\n",
    "h = [1,2,3,4,5,6,7]\n",
    "\n",
    "k = [val**2 for val in h if val%2 == 0]\n",
    "print(k)"
   ]
  },
  {
   "cell_type": "markdown",
   "id": "295a015d-3197-42aa-b5bd-072b4da35c87",
   "metadata": {},
   "source": [
    "<div style=\"border: 1px solid blue; padding: 10px\">\n",
    "<p><a href=\"https://pynative.com/python-list-exercise-with-solutions/\" target=\"_blank\" rel=\"noopener\"><span style=\"font-size: 18pt;\">List Coding Practice</span></a></p>\n",
    "</div>"
   ]
  },
  {
   "cell_type": "markdown",
   "id": "42e76a68-964e-4c95-a59e-7cf127189e5a",
   "metadata": {},
   "source": [
    "<p><a href=\"lesson-dicts.ipynb\" target=\"_blank\" rel=\"noopener\"><span style=\"font-size: 24pt;\">Next Lesson - Dictionaries</span></a></p>"
   ]
  },
  {
   "cell_type": "code",
   "execution_count": null,
   "id": "343620fa-2c5c-42bb-90fd-b8bb941fdd32",
   "metadata": {},
   "outputs": [],
   "source": []
  }
 ],
 "metadata": {
  "kernelspec": {
   "display_name": "Python 3 (ipykernel)",
   "language": "python",
   "name": "python3"
  },
  "language_info": {
   "codemirror_mode": {
    "name": "ipython",
    "version": 3
   },
   "file_extension": ".py",
   "mimetype": "text/x-python",
   "name": "python",
   "nbconvert_exporter": "python",
   "pygments_lexer": "ipython3",
   "version": "3.9.13"
  }
 },
 "nbformat": 4,
 "nbformat_minor": 5
}
