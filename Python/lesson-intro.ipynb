{
 "cells": [
  {
   "cell_type": "markdown",
   "id": "b34c2d84-304f-460e-b84e-1a7d20c817ad",
   "metadata": {},
   "source": [
    "# Introduction to Python"
   ]
  },
  {
   "cell_type": "markdown",
   "id": "b23ba58e-59a7-43b6-a8d6-3f7fb93741f4",
   "metadata": {},
   "source": [
    "<b>Python</b> is an interpreted,interactive, object-oriented programming language.\n",
    "<p>\n",
    "Python's flexibility allows it to do many things, both big and small. \n",
    "<p>\n",
    "Python's syntax is simple and easy to learn and emphasizes readability.\n"
   ]
  },
  {
   "cell_type": "markdown",
   "id": "bd557b72-2c23-49cc-a340-9e5894a85c56",
   "metadata": {},
   "source": [
    "<b>Python for Data Science</b><br>\n",
    "“The usefulness of Python for data science stems primarily from the large\n",
    "and active ecosystem of third-party packages:\n",
    "<ul>\n",
    "  <li><b>NumPy</b> for manipulation of homogeneous array-based data;\n",
    "      <li><b>Pandas</b> for manipulation of heterogeneous and labeled data;\n",
    "<li><b>SciPy</b> for common scientific computing tasks;\n",
    "<li><b>Matplotlib</b> for publication-quality visualizations;\n",
    "<li><b>[Jupyter]</b> for interactive execution and sharing of code;\n",
    "<li><b>Scikit-Learn</b> for machine learning, and many more tools...”\n",
    "<li> .....   many, many others\n",
    " </ul>\n",
    "- Jake VanderPlas"
   ]
  },
  {
   "cell_type": "markdown",
   "id": "11e565cc-0b15-4772-b25b-2a74d6393e22",
   "metadata": {},
   "source": [
    "## Primary Building Blocks"
   ]
  },
  {
   "cell_type": "markdown",
   "id": "a69989f4-3c5b-4da8-90bc-ab258836c3a3",
   "metadata": {},
   "source": [
    "The primary building blocks of Python (and most programming langaugaes):\n",
    "<ul>\n",
    "<li> Giant Calculator\n",
    "<li> Variables and Data Structures\n",
    "<li> Loops\n",
    "<li> Conditional Statements\n",
    "<li> Functions\n",
    "</ul>"
   ]
  },
  {
   "cell_type": "markdown",
   "id": "d05ef229-9f4f-46b9-b441-f5c9237ad499",
   "metadata": {},
   "source": [
    "### Giant Calculator"
   ]
  },
  {
   "cell_type": "markdown",
   "id": "5f21e17f-c423-4f4c-9b1a-9e650c88f7c9",
   "metadata": {},
   "source": [
    "<div style=\"border: 1px solid blue;padding: 10px;font-family:Serif;color:green;font-size:18px\">\n",
    "At its heart, a computer is just a <b>giant calculator</b>... in fact, that was one of the original reasons for creating them... too perform Calculations <b>faster</b> than a human!\n",
    "<p><p><p>\n",
    "As such, Python can perform all (Ok, almost all) Mathmatical calculations needed\n",
    "    \n",
    "<p><p>\n",
    "Lets give it a try:\n",
    "    \n",
    "    \n",
    "</div>"
   ]
  },
  {
   "cell_type": "code",
   "execution_count": 4,
   "id": "029c26de-071e-4d3f-bd6b-3934d4cbdeb9",
   "metadata": {},
   "outputs": [
    {
     "data": {
      "text/plain": [
       "12"
      ]
     },
     "execution_count": 4,
     "metadata": {},
     "output_type": "execute_result"
    }
   ],
   "source": [
    "4 + 8"
   ]
  },
  {
   "cell_type": "code",
   "execution_count": 5,
   "id": "2feb6fb8-1f3f-4249-95a3-a5160525bd61",
   "metadata": {},
   "outputs": [
    {
     "data": {
      "text/plain": [
       "-4"
      ]
     },
     "execution_count": 5,
     "metadata": {},
     "output_type": "execute_result"
    }
   ],
   "source": [
    "4 - 8"
   ]
  },
  {
   "cell_type": "code",
   "execution_count": 6,
   "id": "06cffa1c-de82-4962-8cd1-73297ee08aad",
   "metadata": {},
   "outputs": [
    {
     "data": {
      "text/plain": [
       "32"
      ]
     },
     "execution_count": 6,
     "metadata": {},
     "output_type": "execute_result"
    }
   ],
   "source": [
    "4 * 8"
   ]
  },
  {
   "cell_type": "code",
   "execution_count": 7,
   "id": "52c28ca0-6609-4b10-ac45-0fa7a4517aea",
   "metadata": {},
   "outputs": [
    {
     "data": {
      "text/plain": [
       "0.5"
      ]
     },
     "execution_count": 7,
     "metadata": {},
     "output_type": "execute_result"
    }
   ],
   "source": [
    "4 / 8"
   ]
  },
  {
   "cell_type": "markdown",
   "id": "084055f5-4358-4cf5-828d-341e6f9b60ca",
   "metadata": {
    "jp-MarkdownHeadingCollapsed": true,
    "tags": []
   },
   "source": [
    "<div style=\"border: 1px solid blue;padding: 10px;font-family:Serif;color:green;font-size:18px\">\n",
    "OK... How about something more complicated\n",
    "</div>"
   ]
  },
  {
   "cell_type": "code",
   "execution_count": 8,
   "id": "99e68afe-04de-4ecf-b78a-61604f3c7211",
   "metadata": {},
   "outputs": [
    {
     "data": {
      "text/plain": [
       "9"
      ]
     },
     "execution_count": 8,
     "metadata": {},
     "output_type": "execute_result"
    }
   ],
   "source": [
    "4 + 8 - 3"
   ]
  },
  {
   "cell_type": "code",
   "execution_count": 9,
   "id": "33eaea35-0889-4a32-bacb-f660ebd0c9d1",
   "metadata": {},
   "outputs": [
    {
     "data": {
      "text/plain": [
       "10.0"
      ]
     },
     "execution_count": 9,
     "metadata": {},
     "output_type": "execute_result"
    }
   ],
   "source": [
    "4 * 6 / 3 + 2"
   ]
  },
  {
   "cell_type": "markdown",
   "id": "be1a5782-da61-4a4e-9fc4-d8c0c0cac52b",
   "metadata": {},
   "source": [
    "<div style=\"border: 1px solid blue;padding: 10px;font-family:Serif;color:green;font-size:18px\">\n",
    "    Python follows the <a href=\"https://www.cuemath.com/numbers/pemdas/\">PENMDAS</a> order of Operation:\n",
    "<ul>\n",
    "<li>P- Parentheses\n",
    "<li>E- Exponents\n",
    "<li>M- Multiplication\n",
    "<li>D- Division\n",
    "<li>A- Addition\n",
    "<li>S- Subtraction\n",
    "</ul>"
   ]
  },
  {
   "cell_type": "code",
   "execution_count": 10,
   "id": "9279bf48-2c43-4cf7-a8f6-151c0607aca0",
   "metadata": {},
   "outputs": [
    {
     "data": {
      "text/plain": [
       "96"
      ]
     },
     "execution_count": 10,
     "metadata": {},
     "output_type": "execute_result"
    }
   ],
   "source": [
    "12 * (6 + 2)"
   ]
  },
  {
   "cell_type": "code",
   "execution_count": 11,
   "id": "3d3150cb-be4c-4796-82dc-b45aaa553a6f",
   "metadata": {},
   "outputs": [
    {
     "data": {
      "text/plain": [
       "48"
      ]
     },
     "execution_count": 11,
     "metadata": {},
     "output_type": "execute_result"
    }
   ],
   "source": [
    "12 * (6 - 2)"
   ]
  },
  {
   "cell_type": "markdown",
   "id": "7424783e-a16d-4c87-8555-cfd4e5686b6d",
   "metadata": {},
   "source": [
    "<div style=\"border: 1px solid blue;padding: 10px;font-family:Serif;color:green;font-size:22px\">\n",
    "YOUR TURN\n",
    "<p><p>\n",
    "COCALC - ASSIGNMENTS-yourturn-yourturn_simplemath.ipynb\n",
    "</div>"
   ]
  },
  {
   "cell_type": "markdown",
   "id": "3e873788-1782-4b5a-975e-c5682962db43",
   "metadata": {},
   "source": [
    "### Variables and Data Structures"
   ]
  },
  {
   "cell_type": "markdown",
   "id": "5a7850ae-16d3-4864-b027-9cdddc7d5118",
   "metadata": {},
   "source": [
    "<div style=\"border: 1px solid blue;padding: 10px;font-family:Serif;color:green;font-size:18px\">\n",
    "<ul>\n",
    " <li>To be useful, Python needs to be able to store information and data for later use.  This is done using <b>Variables</b>\n",
    "    <li><b>Variables</b> are containers for storing data values.  \n",
    "    <li> Python is dynmically typed, which means there are no statements for creating variables\n",
    "    </ul> \n",
    "</div>"
   ]
  },
  {
   "cell_type": "markdown",
   "id": "46d1b101-9bc4-49c9-ad46-007a512b3d55",
   "metadata": {},
   "source": [
    "<div style=\"border: 1px solid blue;padding: 10px;font-family:Serif;color:green;font-size:18px\">\n",
    "There are 4 primary types of variables in Pyton\n",
    "<ul>\n",
    "    <li>String - text, numbers, specail characters\n",
    "    <li>Integer ->  numbers only (no decimals)\n",
    "    <li>Float -> Numbers and Fractions\n",
    "    <li>Boolean -> True  False\n",
    "    </ul>\n",
    "<p>\n",
    "Each variable type has a set up functions that can be used to computer different quantities or make changes. "
   ]
  },
  {
   "cell_type": "markdown",
   "id": "470fa94d-e1a8-4fb9-9b6c-f23d74ae89c9",
   "metadata": {
    "tags": []
   },
   "source": [
    "### Strings\n",
    "<div style=\"border: 1px solid blue;padding: 10px;font-family:Serif;color:green;font-size:18px\">\n",
    "\n",
    "String - group of letters and/or numbers and/or specail character surronded by \" or '\n",
    "\n",
    "https://www.w3schools.com/python/python_strings.asp\n",
    "    \n",
    "</div>"
   ]
  },
  {
   "cell_type": "code",
   "execution_count": 3,
   "id": "815e082c-0b8d-49e1-9e7f-b9d3fa98a167",
   "metadata": {},
   "outputs": [
    {
     "name": "stdout",
     "output_type": "stream",
     "text": [
      "I am 34.5 years old and LOVE to eat Cake!!!\n",
      "44.76 is a weird number\n"
     ]
    }
   ],
   "source": [
    "text = \"I am 34.5 years old and LOVE to eat Cake!!!\"\n",
    "print(text)\n",
    "a = \"44.76 is a weird number\"\n",
    "print(a)"
   ]
  },
  {
   "cell_type": "markdown",
   "id": "1e1fc822-ae3c-4357-a83f-57505a6f3649",
   "metadata": {},
   "source": [
    "<div style=\"border: 1px solid blue;padding: 10px;font-family:Serif;color:green;font-size:18px\">\n",
    "\n",
    "So <b>text</b> and <b>a</b> are **variables** that contain strings..\n",
    "\n",
    "<p><p>\n",
    "Note that print() is the Pythion command to print to the screen, sometimes known\n",
    " as STDOUT   (standard output) \n",
    "https://www.w3schools.com/python/ref_func_print.asp\n",
    "\n",
    "</div>"
   ]
  },
  {
   "cell_type": "code",
   "execution_count": 9,
   "id": "8e7d9a4e-fe4b-4256-944f-562c285a1d30",
   "metadata": {},
   "outputs": [
    {
     "name": "stdout",
     "output_type": "stream",
     "text": [
      "I am\n",
      ".5 years old \n"
     ]
    }
   ],
   "source": [
    "# You can also access subset of the string...\n",
    "\n",
    "print(text[0:4])\n",
    "print(text[7:20])"
   ]
  },
  {
   "cell_type": "markdown",
   "id": "6cc7f1ec-1b8c-4aa0-98b9-6affa271a8dc",
   "metadata": {},
   "source": [
    "<div style=\"border: 1px solid blue;padding: 10px;font-family:Serif;color:green;font-size:18px\">\n",
    " ranges for arrays, strings, lists,.... start with <b>0</b>\n",
    "    \n",
    "<p><p>\n",
    "test[start:end]  -> The range will begin at start, BUT it stops at end-1 \n",
    "    \n",
    "    \n",
    "</div>"
   ]
  },
  {
   "cell_type": "code",
   "execution_count": 12,
   "id": "fa3ea729-4970-49e5-94ae-6275d0256e76",
   "metadata": {},
   "outputs": [
    {
     "name": "stdout",
     "output_type": "stream",
     "text": [
      "01234\n"
     ]
    }
   ],
   "source": [
    "y = \"0123456789\"\n",
    "print(y[0:5])"
   ]
  },
  {
   "cell_type": "code",
   "execution_count": 11,
   "id": "fd99b306-f5f3-496f-8400-0f9179b71782",
   "metadata": {},
   "outputs": [
    {
     "name": "stdout",
     "output_type": "stream",
     "text": [
      "43\n",
      "3\n"
     ]
    }
   ],
   "source": [
    "# You can get the lenth (number of characters) in the string using le()\n",
    "print(len(text))\n",
    "print(len(text[0:3]))"
   ]
  },
  {
   "cell_type": "markdown",
   "id": "54da93e1-577e-4541-9360-96876c8c986c",
   "metadata": {},
   "source": [
    "<div style=\"border: 1px solid blue;padding: 10px;font-family:Serif;color:green;font-size:18px\">\n",
    "len() returns the length of strings,lists, dictionaries... \n",
    "<a href=\"https://www.w3schools.com/python/ref_func_len.asp\">https://www.w3schools.com/python/ref_func_len.asp</a>\n",
    "    \n",
    "</div>"
   ]
  },
  {
   "cell_type": "code",
   "execution_count": 14,
   "id": "3991bb07-9c65-4f45-9b0c-c86cf7602d9f",
   "metadata": {},
   "outputs": [
    {
     "name": "stdout",
     "output_type": "stream",
     "text": [
      "My Name Joe Comeaux, Python Destroyer\n",
      "8\n",
      "29\n",
      "37\n"
     ]
    }
   ],
   "source": [
    "# You can concatenate stings \n",
    "a = \"My Name \"\n",
    "b = 'Joe Comeaux, Python Destroyer'\n",
    "c = a + b\n",
    "print(c)\n",
    "print(len(a))\n",
    "print(len(b))\n",
    "print(len(c))"
   ]
  },
  {
   "cell_type": "markdown",
   "id": "01e9e082-5c39-4f3c-bc55-2b575ab133c1",
   "metadata": {},
   "source": [
    "<div style=\"border: 1px solid blue;padding: 10px;font-family:Serif;color:green;font-size:18px\">\n",
    "    Python has a bunch of built in <b>methods</b> (functions) for working with strings\n",
    "<p><p>\n",
    "<a href=\"https://www.w3schools.com/python/python_ref_string.asp\">https://www.w3schools.com/python/python_ref_string.asp</a>\n",
    "</div>"
   ]
  },
  {
   "cell_type": "code",
   "execution_count": 15,
   "id": "d72152b0-480f-4772-ba5b-aabbfa801810",
   "metadata": {},
   "outputs": [
    {
     "name": "stdout",
     "output_type": "stream",
     "text": [
      "['This', 'is', 'a', 'sentence', 'that', 'is', 'not', 'too', 'long']\n"
     ]
    }
   ],
   "source": [
    "# split is a very useful way to split a string into parts...\n",
    "m = \"This is a sentence that is not too long\"\n",
    "print(m.split(\" \"))\n"
   ]
  },
  {
   "cell_type": "code",
   "execution_count": 18,
   "id": "2fb4168c-90c6-400b-86cd-91e0307ea622",
   "metadata": {},
   "outputs": [
    {
     "name": "stdout",
     "output_type": "stream",
     "text": [
      "THIS IS A SENTENCE THAT IS NOT TOO LONG\n",
      "this is a sentence that is not too long\n"
     ]
    }
   ],
   "source": [
    "# convert a string to all capital letters\n",
    "\n",
    "print(m.upper())\n",
    "\n",
    "# upper() has a cousin...lower()\n",
    "print(m.lower())"
   ]
  },
  {
   "cell_type": "markdown",
   "id": "ae47be0b-96b3-4c99-9d1b-034711c38ca3",
   "metadata": {},
   "source": [
    "### Integers and Floats"
   ]
  },
  {
   "cell_type": "code",
   "execution_count": null,
   "id": "e2551449-5da9-4940-8643-6b32dbc5fa5c",
   "metadata": {},
   "outputs": [],
   "source": [
    "\n",
    "# note that integers and floats can are oftern referred to as numbers \n",
    "#\n",
    "# https://www.w3schools.com/python/python_numbers.asp\n",
    "#\n",
    "# Note that there is a 3rd type of number called complex, but it is rare and not\n",
    "# used in Data Analytics\n",
    "#\n",
    "# Integer\n",
    "y = 3\n",
    "\n",
    "# Float\n",
    "x = 34.5\n",
    "z = 3/4\n",
    "\n",
    "# Boolean\n",
    "m = True  # note, 1st letter caps\n",
    "n = False # note, 1st letter is caps"
   ]
  },
  {
   "cell_type": "markdown",
   "id": "a03a8f35-e870-4bad-bc1b-5f2777d65ee9",
   "metadata": {},
   "source": [
    "<div style=\"border: 1px solid blue;padding: 10px;font-family:Serif;color:green;font-size:18px\">\n",
    "Variables have many uses in Python.  One important use is storing the results of calculations\n",
    "    \n",
    " </div>"
   ]
  },
  {
   "cell_type": "code",
   "execution_count": 4,
   "id": "39de4c9a-4f9e-4673-9416-76527649494e",
   "metadata": {},
   "outputs": [
    {
     "name": "stdout",
     "output_type": "stream",
     "text": [
      "85\n"
     ]
    }
   ],
   "source": [
    "a = 5 + 4*20\n",
    "print(a)"
   ]
  },
  {
   "cell_type": "markdown",
   "id": "1e3cbefd-7b5a-4a36-83f1-19def305e2df",
   "metadata": {},
   "source": [
    "PEP8\n",
    "https://peps.python.org/pep-0008/"
   ]
  },
  {
   "cell_type": "code",
   "execution_count": 5,
   "id": "e3267d75-ea45-47d7-8767-47989c7a41a8",
   "metadata": {},
   "outputs": [
    {
     "name": "stdout",
     "output_type": "stream",
     "text": [
      "5\n"
     ]
    }
   ],
   "source": [
    "b = 12\n",
    "c = 5\n",
    "d = 3/4\n",
    "\n",
    "z = b + c*d\n",
    "print(c)"
   ]
  },
  {
   "cell_type": "markdown",
   "id": "f0d6ee95-8d9d-4567-ae75-0d3db65af781",
   "metadata": {},
   "source": [
    "<div style=\"border: 1px solid blue;padding: 10px;font-family:Serif;color:green;font-size:18px\">\n",
    "print is a built in Python function that can be very, very useful.\n",
    " https://www.w3schools.com/python/ref_func_print.asp\n",
    "<p>\n",
    "The print funciton will print out whatever is input to the function\n",
    "<p>\n",
    "The power of the pri9nt function is that coders can use it in many different way.  One of the more impportant way is using print() to check the status of yor program at different stages\n",
    "<div>"
   ]
  },
  {
   "cell_type": "code",
   "execution_count": 6,
   "id": "44e104cd-5eaf-449b-b0de-3b6452125122",
   "metadata": {},
   "outputs": [
    {
     "name": "stdout",
     "output_type": "stream",
     "text": [
      "85\n"
     ]
    }
   ],
   "source": [
    "print(a)"
   ]
  },
  {
   "cell_type": "code",
   "execution_count": 7,
   "id": "5d934b1e-521b-4012-933b-7d4c7b58e2cc",
   "metadata": {},
   "outputs": [
    {
     "name": "stdout",
     "output_type": "stream",
     "text": [
      "144\n"
     ]
    }
   ],
   "source": [
    "a = b**2\n",
    "print(a)"
   ]
  },
  {
   "cell_type": "code",
   "execution_count": null,
   "id": "677c94a0-e8ef-4efe-b25b-6ff960c1c22a",
   "metadata": {},
   "outputs": [],
   "source": []
  }
 ],
 "metadata": {
  "kernelspec": {
   "display_name": "Python 3 (ipykernel)",
   "language": "python",
   "name": "python3"
  },
  "language_info": {
   "codemirror_mode": {
    "name": "ipython",
    "version": 3
   },
   "file_extension": ".py",
   "mimetype": "text/x-python",
   "name": "python",
   "nbconvert_exporter": "python",
   "pygments_lexer": "ipython3",
   "version": "3.9.12"
  }
 },
 "nbformat": 4,
 "nbformat_minor": 5
}
